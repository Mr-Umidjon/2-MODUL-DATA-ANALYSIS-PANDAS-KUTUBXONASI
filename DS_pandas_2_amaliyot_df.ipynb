{
  "cells": [
    {
      "cell_type": "markdown",
      "metadata": {
        "id": "view-in-github",
        "colab_type": "text"
      },
      "source": [
        "<a href=\"https://colab.research.google.com/github/Mr-Umidjon/2-MODUL-DATA-ANALYSIS-PANDAS-KUTUBXONASI/blob/django-first/DS_pandas_2_amaliyot_df.ipynb\" target=\"_parent\"><img src=\"https://colab.research.google.com/assets/colab-badge.svg\" alt=\"Open In Colab\"/></a>"
      ]
    },
    {
      "cell_type": "markdown",
      "metadata": {
        "id": "WyTfPJtEqH5C"
      },
      "source": [
        "# ![Imgur](https://i.imgur.com/5pXzCIu.png)\n",
        "\n",
        "# **DATA SCIENCE VA SUN'IY INTELLEKT PRAKTIKUM**\n",
        "\n",
        "## Ma'lumotlar tahlili. Pandas kutubxonasi.\n",
        "\n",
        "# **AMALIYOT**\n",
        "## DataFrame"
      ]
    },
    {
      "cell_type": "markdown",
      "metadata": {
        "id": "FNLOb9yhxI0b"
      },
      "source": [
        "### **1-mashq**. `Pandas` kutubxonasini `pd`, `numpy` kutubxonasini `np` deb chaqirib oling"
      ]
    },
    {
      "cell_type": "code",
      "execution_count": null,
      "metadata": {
        "id": "GrbBfqRpxIFr"
      },
      "outputs": [],
      "source": [
        "# Javobni shuyerga yozing\n",
        "import numpy as np\n",
        "import pandas as pd\n"
      ]
    },
    {
      "cell_type": "code",
      "execution_count": null,
      "metadata": {
        "code_folding": [
          0
        ],
        "id": "24df0gBjIppl"
      },
      "outputs": [],
      "source": [
        "#@title **To'g'ri javob**\n",
        "import pandas as pd\n",
        "import numpy as np"
      ]
    },
    {
      "cell_type": "markdown",
      "metadata": {
        "id": "QJT0KIgcN79b"
      },
      "source": [
        "### **2-mashq.** Quyida ko'rsatilgan dataframeni yarating va `df` deb nomlang"
      ]
    },
    {
      "cell_type": "code",
      "execution_count": null,
      "metadata": {
        "code_folding": [],
        "id": "6WL4EWf3l7vL"
      },
      "outputs": [],
      "source": [
        "# Javobni shuyerga yozing\n"
      ]
    },
    {
      "cell_type": "code",
      "execution_count": null,
      "metadata": {
        "code_folding": [
          0
        ],
        "id": "PD7qQQH9oA87",
        "outputId": "0c78b9c3-64ea-4fa8-b78b-b5de29835345"
      },
      "outputs": [
        {
          "data": {
            "text/html": [
              "<div>\n",
              "<style scoped>\n",
              "    .dataframe tbody tr th:only-of-type {\n",
              "        vertical-align: middle;\n",
              "    }\n",
              "\n",
              "    .dataframe tbody tr th {\n",
              "        vertical-align: top;\n",
              "    }\n",
              "\n",
              "    .dataframe thead th {\n",
              "        text-align: right;\n",
              "    }\n",
              "</style>\n",
              "<table border=\"1\" class=\"dataframe\">\n",
              "  <thead>\n",
              "    <tr style=\"text-align: right;\">\n",
              "      <th></th>\n",
              "      <th>Hudud</th>\n",
              "      <th>Markaz</th>\n",
              "      <th>Maydoni</th>\n",
              "      <th>Aholisi</th>\n",
              "    </tr>\n",
              "  </thead>\n",
              "  <tbody>\n",
              "    <tr>\n",
              "      <th>0</th>\n",
              "      <td>Andijon viloyati</td>\n",
              "      <td>Andijon shahri</td>\n",
              "      <td>4200</td>\n",
              "      <td>1899000</td>\n",
              "    </tr>\n",
              "    <tr>\n",
              "      <th>1</th>\n",
              "      <td>Buxoro viloyati</td>\n",
              "      <td>Buxoro shahri</td>\n",
              "      <td>39400</td>\n",
              "      <td>1384700</td>\n",
              "    </tr>\n",
              "    <tr>\n",
              "      <th>2</th>\n",
              "      <td>Fargona viloyati</td>\n",
              "      <td>Fargona shahri</td>\n",
              "      <td>6800</td>\n",
              "      <td>2597000</td>\n",
              "    </tr>\n",
              "    <tr>\n",
              "      <th>3</th>\n",
              "      <td>Jizzax viloyati</td>\n",
              "      <td>Jizzax shahri</td>\n",
              "      <td>20500</td>\n",
              "      <td>910500</td>\n",
              "    </tr>\n",
              "    <tr>\n",
              "      <th>4</th>\n",
              "      <td>Xorazm viloyati</td>\n",
              "      <td>Urganch shahri</td>\n",
              "      <td>6300</td>\n",
              "      <td>1200000</td>\n",
              "    </tr>\n",
              "    <tr>\n",
              "      <th>5</th>\n",
              "      <td>Namangan viloyati</td>\n",
              "      <td>Namangan shahri</td>\n",
              "      <td>7900</td>\n",
              "      <td>1862000</td>\n",
              "    </tr>\n",
              "    <tr>\n",
              "      <th>6</th>\n",
              "      <td>Navoiy viloyati</td>\n",
              "      <td>Navoiy shahri</td>\n",
              "      <td>110800</td>\n",
              "      <td>767500</td>\n",
              "    </tr>\n",
              "    <tr>\n",
              "      <th>7</th>\n",
              "      <td>Qashqadaryo viloyati</td>\n",
              "      <td>Qarshi shahri</td>\n",
              "      <td>28400</td>\n",
              "      <td>2029000</td>\n",
              "    </tr>\n",
              "    <tr>\n",
              "      <th>8</th>\n",
              "      <td>Qoraqalpogʻiston Respublikasi</td>\n",
              "      <td>Nukus shahri</td>\n",
              "      <td>160000</td>\n",
              "      <td>1200000</td>\n",
              "    </tr>\n",
              "    <tr>\n",
              "      <th>9</th>\n",
              "      <td>Samarqand viloyati</td>\n",
              "      <td>Samarqand shahri</td>\n",
              "      <td>16400</td>\n",
              "      <td>2322000</td>\n",
              "    </tr>\n",
              "    <tr>\n",
              "      <th>10</th>\n",
              "      <td>Sirdaryo viloyati</td>\n",
              "      <td>Guliston shahri</td>\n",
              "      <td>5100</td>\n",
              "      <td>648100</td>\n",
              "    </tr>\n",
              "    <tr>\n",
              "      <th>11</th>\n",
              "      <td>Surxondaryo viloyati</td>\n",
              "      <td>Termiz shahri</td>\n",
              "      <td>20800</td>\n",
              "      <td>1676000</td>\n",
              "    </tr>\n",
              "    <tr>\n",
              "      <th>12</th>\n",
              "      <td>Toshkent viloyati</td>\n",
              "      <td>Nurafshon shahri</td>\n",
              "      <td>15300</td>\n",
              "      <td>4450000</td>\n",
              "    </tr>\n",
              "  </tbody>\n",
              "</table>\n",
              "</div>"
            ],
            "text/plain": [
              "                            Hudud            Markaz  Maydoni  Aholisi\n",
              "0                Andijon viloyati    Andijon shahri     4200  1899000\n",
              "1                 Buxoro viloyati     Buxoro shahri    39400  1384700\n",
              "2                Fargona viloyati    Fargona shahri     6800  2597000\n",
              "3                 Jizzax viloyati     Jizzax shahri    20500   910500\n",
              "4                 Xorazm viloyati    Urganch shahri     6300  1200000\n",
              "5               Namangan viloyati   Namangan shahri     7900  1862000\n",
              "6                 Navoiy viloyati     Navoiy shahri   110800   767500\n",
              "7            Qashqadaryo viloyati     Qarshi shahri    28400  2029000\n",
              "8   Qoraqalpogʻiston Respublikasi      Nukus shahri   160000  1200000\n",
              "9              Samarqand viloyati  Samarqand shahri    16400  2322000\n",
              "10              Sirdaryo viloyati   Guliston shahri     5100   648100\n",
              "11           Surxondaryo viloyati     Termiz shahri    20800  1676000\n",
              "12              Toshkent viloyati  Nurafshon shahri    15300  4450000"
            ]
          },
          "execution_count": 71,
          "metadata": {},
          "output_type": "execute_result"
        }
      ],
      "source": [
        "# @title **To'g'ri javob**\n",
        "viloyatlar = [\n",
        "    \"Andijon viloyati\",\n",
        "    \"Buxoro viloyati\",\n",
        "    \"Fargona viloyati\",\n",
        "    \"Jizzax viloyati\",\n",
        "    \"Xorazm viloyati\",\n",
        "    \"Namangan viloyati\",\n",
        "    \"Navoiy viloyati\",\n",
        "    \"Qashqadaryo viloyati\",\n",
        "    \"Qoraqalpogʻiston Respublikasi\",\n",
        "    \"Samarqand viloyati\",\n",
        "    \"Sirdaryo viloyati\",\n",
        "    \"Surxondaryo viloyati\",\n",
        "    \"Toshkent viloyati\",\n",
        "]\n",
        "markazlar = [\n",
        "    \"Andijon shahri\",\n",
        "    \"Buxoro shahri\",\n",
        "    \"Fargona shahri\",\n",
        "    \"Jizzax shahri\",\n",
        "    \"Urganch shahri\",\n",
        "    \"Namangan shahri\",\n",
        "    \"Navoiy shahri\",\n",
        "    \"Qarshi shahri\",\n",
        "    \"Nukus shahri\",\n",
        "    \"Samarqand shahri\",\n",
        "    \"Guliston shahri\",\n",
        "    \"Termiz shahri\",\n",
        "    \"Nurafshon shahri\",\n",
        "]\n",
        "maydonlar = [\n",
        "    4200,\n",
        "    39400,\n",
        "    6800,\n",
        "    20500,\n",
        "    6300,\n",
        "    7900,\n",
        "    110800,\n",
        "    28400,\n",
        "    160000,\n",
        "    16400,\n",
        "    5100,\n",
        "    20800,\n",
        "    15300,\n",
        "]\n",
        "aholi = [\n",
        "    1899000,\n",
        "    1384700,\n",
        "    2597000,\n",
        "    910500,\n",
        "    1200000,\n",
        "    1862000,\n",
        "    767500,\n",
        "    2029000,\n",
        "    1200000,\n",
        "    2322000,\n",
        "    648100,\n",
        "    1676000,\n",
        "    4450000,\n",
        "]\n",
        "data = {\n",
        "    \"Hudud\":viloyatlar,\n",
        "    \"Markaz\":markazlar,\n",
        "    \"Maydoni\":maydonlar,\n",
        "    \"Aholisi\":aholi\n",
        "}\n",
        "df = pd.DataFrame(data)\n",
        "df"
      ]
    },
    {
      "cell_type": "markdown",
      "metadata": {
        "id": "wUn1nt-TDiEA"
      },
      "source": [
        "### **2-mashq.** Yuqoridagi df ning yuqorisidan 5 ta qator chiqaring"
      ]
    },
    {
      "cell_type": "code",
      "execution_count": null,
      "metadata": {
        "id": "HGLS4u3NDiEB"
      },
      "outputs": [],
      "source": [
        "# Javobni shuyerga yozing\n"
      ]
    },
    {
      "cell_type": "code",
      "execution_count": null,
      "metadata": {
        "code_folding": [
          0
        ],
        "scrolled": true,
        "id": "6GEL-RIgDiEC",
        "outputId": "570e2d88-7760-459e-fcfe-adb139664b23"
      },
      "outputs": [
        {
          "data": {
            "text/html": [
              "<div>\n",
              "<style scoped>\n",
              "    .dataframe tbody tr th:only-of-type {\n",
              "        vertical-align: middle;\n",
              "    }\n",
              "\n",
              "    .dataframe tbody tr th {\n",
              "        vertical-align: top;\n",
              "    }\n",
              "\n",
              "    .dataframe thead th {\n",
              "        text-align: right;\n",
              "    }\n",
              "</style>\n",
              "<table border=\"1\" class=\"dataframe\">\n",
              "  <thead>\n",
              "    <tr style=\"text-align: right;\">\n",
              "      <th></th>\n",
              "      <th>Hudud</th>\n",
              "      <th>Markaz</th>\n",
              "      <th>Maydoni</th>\n",
              "      <th>Aholisi</th>\n",
              "    </tr>\n",
              "  </thead>\n",
              "  <tbody>\n",
              "    <tr>\n",
              "      <th>0</th>\n",
              "      <td>Andijon viloyati</td>\n",
              "      <td>Andijon shahri</td>\n",
              "      <td>4200</td>\n",
              "      <td>1899000</td>\n",
              "    </tr>\n",
              "    <tr>\n",
              "      <th>1</th>\n",
              "      <td>Buxoro viloyati</td>\n",
              "      <td>Buxoro shahri</td>\n",
              "      <td>39400</td>\n",
              "      <td>1384700</td>\n",
              "    </tr>\n",
              "    <tr>\n",
              "      <th>2</th>\n",
              "      <td>Fargʻona viloyati</td>\n",
              "      <td>Fargʻona shahri</td>\n",
              "      <td>6800</td>\n",
              "      <td>2597000</td>\n",
              "    </tr>\n",
              "    <tr>\n",
              "      <th>3</th>\n",
              "      <td>Jizzax viloyati</td>\n",
              "      <td>Jizzax shahri</td>\n",
              "      <td>20500</td>\n",
              "      <td>910500</td>\n",
              "    </tr>\n",
              "    <tr>\n",
              "      <th>4</th>\n",
              "      <td>Xorazm viloyati</td>\n",
              "      <td>Urganch shahri</td>\n",
              "      <td>6300</td>\n",
              "      <td>1200000</td>\n",
              "    </tr>\n",
              "  </tbody>\n",
              "</table>\n",
              "</div>"
            ],
            "text/plain": [
              "               Hudud           Markaz  Maydoni  Aholisi\n",
              "0   Andijon viloyati   Andijon shahri     4200  1899000\n",
              "1    Buxoro viloyati    Buxoro shahri    39400  1384700\n",
              "2  Fargʻona viloyati  Fargʻona shahri     6800  2597000\n",
              "3    Jizzax viloyati    Jizzax shahri    20500   910500\n",
              "4    Xorazm viloyati   Urganch shahri     6300  1200000"
            ]
          },
          "execution_count": 8,
          "metadata": {},
          "output_type": "execute_result"
        }
      ],
      "source": [
        "#@title **To'g'ri javob**\n",
        "df.head()"
      ]
    },
    {
      "cell_type": "markdown",
      "metadata": {
        "id": "F1JaO4IpDiEC"
      },
      "source": [
        "### **3-mashq.** Yuqoridagi df dan tasodifiy 3 ta qator chiqaring"
      ]
    },
    {
      "cell_type": "code",
      "execution_count": null,
      "metadata": {
        "id": "VoyFdCoCDiEC"
      },
      "outputs": [],
      "source": [
        "# Javobni shuyerga yozing\n"
      ]
    },
    {
      "cell_type": "code",
      "execution_count": null,
      "metadata": {
        "code_folding": [
          0
        ],
        "id": "Km4P4tgoDiED",
        "outputId": "dd563fcd-e0c2-41c0-fa7a-336f89f753b2"
      },
      "outputs": [
        {
          "data": {
            "text/html": [
              "<div>\n",
              "<style scoped>\n",
              "    .dataframe tbody tr th:only-of-type {\n",
              "        vertical-align: middle;\n",
              "    }\n",
              "\n",
              "    .dataframe tbody tr th {\n",
              "        vertical-align: top;\n",
              "    }\n",
              "\n",
              "    .dataframe thead th {\n",
              "        text-align: right;\n",
              "    }\n",
              "</style>\n",
              "<table border=\"1\" class=\"dataframe\">\n",
              "  <thead>\n",
              "    <tr style=\"text-align: right;\">\n",
              "      <th></th>\n",
              "      <th>Hudud</th>\n",
              "      <th>Markaz</th>\n",
              "      <th>Maydoni</th>\n",
              "      <th>Aholisi</th>\n",
              "    </tr>\n",
              "  </thead>\n",
              "  <tbody>\n",
              "    <tr>\n",
              "      <th>0</th>\n",
              "      <td>Andijon viloyati</td>\n",
              "      <td>Andijon shahri</td>\n",
              "      <td>4200</td>\n",
              "      <td>1899000</td>\n",
              "    </tr>\n",
              "    <tr>\n",
              "      <th>3</th>\n",
              "      <td>Jizzax viloyati</td>\n",
              "      <td>Jizzax shahri</td>\n",
              "      <td>20500</td>\n",
              "      <td>910500</td>\n",
              "    </tr>\n",
              "    <tr>\n",
              "      <th>8</th>\n",
              "      <td>Qoraqalpogʻiston Respublikasi</td>\n",
              "      <td>Nukus shahri</td>\n",
              "      <td>160000</td>\n",
              "      <td>1200000</td>\n",
              "    </tr>\n",
              "  </tbody>\n",
              "</table>\n",
              "</div>"
            ],
            "text/plain": [
              "                           Hudud          Markaz  Maydoni  Aholisi\n",
              "0               Andijon viloyati  Andijon shahri     4200  1899000\n",
              "3                Jizzax viloyati   Jizzax shahri    20500   910500\n",
              "8  Qoraqalpogʻiston Respublikasi    Nukus shahri   160000  1200000"
            ]
          },
          "execution_count": 11,
          "metadata": {},
          "output_type": "execute_result"
        }
      ],
      "source": [
        "#@title **To'g'ri javob**\n",
        "df.sample(3)"
      ]
    },
    {
      "cell_type": "markdown",
      "metadata": {
        "id": "gZOCqmccDiED"
      },
      "source": [
        "### **4-mashq.** Yuqoridagi df ning 'Hudud' va 'Aholisi' ustinlarini alohida df ko'rinishida chiqaring"
      ]
    },
    {
      "cell_type": "code",
      "execution_count": null,
      "metadata": {
        "id": "zftNfqzEDiEE"
      },
      "outputs": [],
      "source": [
        "# Javobni shuyerga yozing\n"
      ]
    },
    {
      "cell_type": "code",
      "execution_count": null,
      "metadata": {
        "code_folding": [
          0
        ],
        "scrolled": true,
        "id": "ESEbUX9sDiEE",
        "outputId": "4d83fb9d-24df-46f5-d11e-d359a8add6a1"
      },
      "outputs": [
        {
          "data": {
            "text/html": [
              "<div>\n",
              "<style scoped>\n",
              "    .dataframe tbody tr th:only-of-type {\n",
              "        vertical-align: middle;\n",
              "    }\n",
              "\n",
              "    .dataframe tbody tr th {\n",
              "        vertical-align: top;\n",
              "    }\n",
              "\n",
              "    .dataframe thead th {\n",
              "        text-align: right;\n",
              "    }\n",
              "</style>\n",
              "<table border=\"1\" class=\"dataframe\">\n",
              "  <thead>\n",
              "    <tr style=\"text-align: right;\">\n",
              "      <th></th>\n",
              "      <th>Hudud</th>\n",
              "      <th>Aholisi</th>\n",
              "    </tr>\n",
              "  </thead>\n",
              "  <tbody>\n",
              "    <tr>\n",
              "      <th>0</th>\n",
              "      <td>Andijon viloyati</td>\n",
              "      <td>1899000</td>\n",
              "    </tr>\n",
              "    <tr>\n",
              "      <th>1</th>\n",
              "      <td>Buxoro viloyati</td>\n",
              "      <td>1384700</td>\n",
              "    </tr>\n",
              "    <tr>\n",
              "      <th>2</th>\n",
              "      <td>Fargʻona viloyati</td>\n",
              "      <td>2597000</td>\n",
              "    </tr>\n",
              "    <tr>\n",
              "      <th>3</th>\n",
              "      <td>Jizzax viloyati</td>\n",
              "      <td>910500</td>\n",
              "    </tr>\n",
              "    <tr>\n",
              "      <th>4</th>\n",
              "      <td>Xorazm viloyati</td>\n",
              "      <td>1200000</td>\n",
              "    </tr>\n",
              "    <tr>\n",
              "      <th>5</th>\n",
              "      <td>Namangan viloyati</td>\n",
              "      <td>1862000</td>\n",
              "    </tr>\n",
              "    <tr>\n",
              "      <th>6</th>\n",
              "      <td>Navoiy viloyati</td>\n",
              "      <td>767500</td>\n",
              "    </tr>\n",
              "    <tr>\n",
              "      <th>7</th>\n",
              "      <td>Qashqadaryo viloyati</td>\n",
              "      <td>2029000</td>\n",
              "    </tr>\n",
              "    <tr>\n",
              "      <th>8</th>\n",
              "      <td>Qoraqalpogʻiston Respublikasi</td>\n",
              "      <td>1200000</td>\n",
              "    </tr>\n",
              "    <tr>\n",
              "      <th>9</th>\n",
              "      <td>Samarqand viloyati</td>\n",
              "      <td>2322000</td>\n",
              "    </tr>\n",
              "    <tr>\n",
              "      <th>10</th>\n",
              "      <td>Sirdaryo viloyati</td>\n",
              "      <td>648100</td>\n",
              "    </tr>\n",
              "    <tr>\n",
              "      <th>11</th>\n",
              "      <td>Surxondaryo viloyati</td>\n",
              "      <td>1676000</td>\n",
              "    </tr>\n",
              "    <tr>\n",
              "      <th>12</th>\n",
              "      <td>Toshkent viloyati</td>\n",
              "      <td>4450000</td>\n",
              "    </tr>\n",
              "  </tbody>\n",
              "</table>\n",
              "</div>"
            ],
            "text/plain": [
              "                            Hudud  Aholisi\n",
              "0                Andijon viloyati  1899000\n",
              "1                 Buxoro viloyati  1384700\n",
              "2               Fargʻona viloyati  2597000\n",
              "3                 Jizzax viloyati   910500\n",
              "4                 Xorazm viloyati  1200000\n",
              "5               Namangan viloyati  1862000\n",
              "6                 Navoiy viloyati   767500\n",
              "7            Qashqadaryo viloyati  2029000\n",
              "8   Qoraqalpogʻiston Respublikasi  1200000\n",
              "9              Samarqand viloyati  2322000\n",
              "10              Sirdaryo viloyati   648100\n",
              "11           Surxondaryo viloyati  1676000\n",
              "12              Toshkent viloyati  4450000"
            ]
          },
          "execution_count": 12,
          "metadata": {},
          "output_type": "execute_result"
        }
      ],
      "source": [
        "#@title **To'g'ri javob**\n",
        "df[['Hudud','Aholisi']]"
      ]
    },
    {
      "cell_type": "markdown",
      "metadata": {
        "id": "DPbuTGG2DiEE"
      },
      "source": [
        "### **5-mashq.** Yuqoridagi df ning `Markaz` ustunini Series obyekti ko'rinishida chiqaring"
      ]
    },
    {
      "cell_type": "code",
      "execution_count": null,
      "metadata": {
        "id": "D8lE43QMDiEE"
      },
      "outputs": [],
      "source": [
        "# Javobni shuyerga yozing\n"
      ]
    },
    {
      "cell_type": "code",
      "execution_count": null,
      "metadata": {
        "code_folding": [
          0
        ],
        "scrolled": false,
        "id": "pQXihU4DDiEE",
        "outputId": "f03ecf30-ddbf-461a-dc8d-3efd4672cb5c"
      },
      "outputs": [
        {
          "data": {
            "text/plain": [
              "0       Andijon shahri\n",
              "1        Buxoro shahri\n",
              "2      Fargʻona shahri\n",
              "3        Jizzax shahri\n",
              "4       Urganch shahri\n",
              "5      Namangan shahri\n",
              "6        Navoiy shahri\n",
              "7        Qarshi shahri\n",
              "8         Nukus shahri\n",
              "9     Samarqand shahri\n",
              "10     Guliston shahri\n",
              "11       Termiz shahri\n",
              "12    Nurafshon shahri\n",
              "Name: Markaz, dtype: object"
            ]
          },
          "execution_count": 13,
          "metadata": {},
          "output_type": "execute_result"
        }
      ],
      "source": [
        "#@title **To'g'ri javob**\n",
        "df.Markaz"
      ]
    },
    {
      "cell_type": "markdown",
      "metadata": {
        "id": "MgZteMydDiEF"
      },
      "source": [
        "### **6-mashq.** Yuqoridagi df dan aholi soni 2 milliondan oshiq bo'lgan hududlarni chiqaring"
      ]
    },
    {
      "cell_type": "code",
      "execution_count": null,
      "metadata": {
        "id": "zr4nEGUTDiEF"
      },
      "outputs": [],
      "source": [
        "# Javobni shuyerga yozing\n"
      ]
    },
    {
      "cell_type": "code",
      "execution_count": null,
      "metadata": {
        "code_folding": [
          0
        ],
        "scrolled": true,
        "id": "S8ws0eSaDiEF",
        "outputId": "a25b5c3f-aaa5-4a7b-a85c-d589f45a5854"
      },
      "outputs": [
        {
          "data": {
            "text/html": [
              "<div>\n",
              "<style scoped>\n",
              "    .dataframe tbody tr th:only-of-type {\n",
              "        vertical-align: middle;\n",
              "    }\n",
              "\n",
              "    .dataframe tbody tr th {\n",
              "        vertical-align: top;\n",
              "    }\n",
              "\n",
              "    .dataframe thead th {\n",
              "        text-align: right;\n",
              "    }\n",
              "</style>\n",
              "<table border=\"1\" class=\"dataframe\">\n",
              "  <thead>\n",
              "    <tr style=\"text-align: right;\">\n",
              "      <th></th>\n",
              "      <th>Hudud</th>\n",
              "      <th>Markaz</th>\n",
              "      <th>Maydoni</th>\n",
              "      <th>Aholisi</th>\n",
              "    </tr>\n",
              "  </thead>\n",
              "  <tbody>\n",
              "    <tr>\n",
              "      <th>2</th>\n",
              "      <td>Fargʻona viloyati</td>\n",
              "      <td>Fargʻona shahri</td>\n",
              "      <td>6800</td>\n",
              "      <td>2597000</td>\n",
              "    </tr>\n",
              "    <tr>\n",
              "      <th>7</th>\n",
              "      <td>Qashqadaryo viloyati</td>\n",
              "      <td>Qarshi shahri</td>\n",
              "      <td>28400</td>\n",
              "      <td>2029000</td>\n",
              "    </tr>\n",
              "    <tr>\n",
              "      <th>9</th>\n",
              "      <td>Samarqand viloyati</td>\n",
              "      <td>Samarqand shahri</td>\n",
              "      <td>16400</td>\n",
              "      <td>2322000</td>\n",
              "    </tr>\n",
              "    <tr>\n",
              "      <th>12</th>\n",
              "      <td>Toshkent viloyati</td>\n",
              "      <td>Nurafshon shahri</td>\n",
              "      <td>15300</td>\n",
              "      <td>4450000</td>\n",
              "    </tr>\n",
              "  </tbody>\n",
              "</table>\n",
              "</div>"
            ],
            "text/plain": [
              "                   Hudud            Markaz  Maydoni  Aholisi\n",
              "2      Fargʻona viloyati   Fargʻona shahri     6800  2597000\n",
              "7   Qashqadaryo viloyati     Qarshi shahri    28400  2029000\n",
              "9     Samarqand viloyati  Samarqand shahri    16400  2322000\n",
              "12     Toshkent viloyati  Nurafshon shahri    15300  4450000"
            ]
          },
          "execution_count": 20,
          "metadata": {},
          "output_type": "execute_result"
        }
      ],
      "source": [
        "#@title **To'g'ri javob**\n",
        "df[df.Aholisi>2_000_000]"
      ]
    },
    {
      "cell_type": "markdown",
      "metadata": {
        "id": "EDjI7gEqDiEF"
      },
      "source": [
        "### **7-mashq.** Yuqoridagi df dan maydoni 10000kv.km dan kichik bo'lgan hududlarni chiqaring"
      ]
    },
    {
      "cell_type": "code",
      "execution_count": null,
      "metadata": {
        "id": "7cRB8aVqDiEG"
      },
      "outputs": [],
      "source": [
        "# Javobni shuyerga yozing\n"
      ]
    },
    {
      "cell_type": "code",
      "execution_count": null,
      "metadata": {
        "code_folding": [
          0
        ],
        "scrolled": false,
        "id": "iaEAVZ1kDiEG",
        "outputId": "7483a016-20bb-41e8-a13a-ca93ca5defe6"
      },
      "outputs": [
        {
          "data": {
            "text/html": [
              "<div>\n",
              "<style scoped>\n",
              "    .dataframe tbody tr th:only-of-type {\n",
              "        vertical-align: middle;\n",
              "    }\n",
              "\n",
              "    .dataframe tbody tr th {\n",
              "        vertical-align: top;\n",
              "    }\n",
              "\n",
              "    .dataframe thead th {\n",
              "        text-align: right;\n",
              "    }\n",
              "</style>\n",
              "<table border=\"1\" class=\"dataframe\">\n",
              "  <thead>\n",
              "    <tr style=\"text-align: right;\">\n",
              "      <th></th>\n",
              "      <th>Hudud</th>\n",
              "      <th>Markaz</th>\n",
              "      <th>Maydoni</th>\n",
              "      <th>Aholisi</th>\n",
              "    </tr>\n",
              "  </thead>\n",
              "  <tbody>\n",
              "    <tr>\n",
              "      <th>0</th>\n",
              "      <td>Andijon viloyati</td>\n",
              "      <td>Andijon shahri</td>\n",
              "      <td>4200</td>\n",
              "      <td>1899000</td>\n",
              "    </tr>\n",
              "    <tr>\n",
              "      <th>2</th>\n",
              "      <td>Fargona viloyati</td>\n",
              "      <td>Fargona shahri</td>\n",
              "      <td>6800</td>\n",
              "      <td>2597000</td>\n",
              "    </tr>\n",
              "    <tr>\n",
              "      <th>4</th>\n",
              "      <td>Xorazm viloyati</td>\n",
              "      <td>Urganch shahri</td>\n",
              "      <td>6300</td>\n",
              "      <td>1200000</td>\n",
              "    </tr>\n",
              "    <tr>\n",
              "      <th>5</th>\n",
              "      <td>Namangan viloyati</td>\n",
              "      <td>Namangan shahri</td>\n",
              "      <td>7900</td>\n",
              "      <td>1862000</td>\n",
              "    </tr>\n",
              "    <tr>\n",
              "      <th>10</th>\n",
              "      <td>Sirdaryo viloyati</td>\n",
              "      <td>Guliston shahri</td>\n",
              "      <td>5100</td>\n",
              "      <td>648100</td>\n",
              "    </tr>\n",
              "  </tbody>\n",
              "</table>\n",
              "</div>"
            ],
            "text/plain": [
              "                Hudud           Markaz  Maydoni  Aholisi\n",
              "0    Andijon viloyati   Andijon shahri     4200  1899000\n",
              "2    Fargona viloyati   Fargona shahri     6800  2597000\n",
              "4     Xorazm viloyati   Urganch shahri     6300  1200000\n",
              "5   Namangan viloyati  Namangan shahri     7900  1862000\n",
              "10  Sirdaryo viloyati  Guliston shahri     5100   648100"
            ]
          },
          "execution_count": 72,
          "metadata": {},
          "output_type": "execute_result"
        }
      ],
      "source": [
        "#@title **To'g'ri javob**\n",
        "df[df.Maydoni<10000]"
      ]
    },
    {
      "cell_type": "markdown",
      "metadata": {
        "id": "dAHHMdOmDiEG"
      },
      "source": [
        "### **8-mashq.** Yuqoridagi df ning birinchi ustunini df ning indeksi sifatida ishlating\n",
        "Ishora:\n",
        "1. Yoki df ni qayta yarating\n",
        "2. Yoki `set_index()` metodidan foydalaning"
      ]
    },
    {
      "cell_type": "code",
      "execution_count": null,
      "metadata": {
        "id": "ZdL9jX69DiEG"
      },
      "outputs": [],
      "source": [
        "# Javobni shuyerga yozing\n"
      ]
    },
    {
      "cell_type": "code",
      "execution_count": null,
      "metadata": {
        "code_folding": [
          0
        ],
        "scrolled": true,
        "id": "9_D530DBDiEG",
        "outputId": "5cb11c83-6343-4b5b-9a1d-8053e9d33f52"
      },
      "outputs": [
        {
          "data": {
            "text/html": [
              "<div>\n",
              "<style scoped>\n",
              "    .dataframe tbody tr th:only-of-type {\n",
              "        vertical-align: middle;\n",
              "    }\n",
              "\n",
              "    .dataframe tbody tr th {\n",
              "        vertical-align: top;\n",
              "    }\n",
              "\n",
              "    .dataframe thead th {\n",
              "        text-align: right;\n",
              "    }\n",
              "</style>\n",
              "<table border=\"1\" class=\"dataframe\">\n",
              "  <thead>\n",
              "    <tr style=\"text-align: right;\">\n",
              "      <th></th>\n",
              "      <th>Markaz</th>\n",
              "      <th>Maydoni</th>\n",
              "      <th>Aholisi</th>\n",
              "    </tr>\n",
              "    <tr>\n",
              "      <th>Hudud</th>\n",
              "      <th></th>\n",
              "      <th></th>\n",
              "      <th></th>\n",
              "    </tr>\n",
              "  </thead>\n",
              "  <tbody>\n",
              "    <tr>\n",
              "      <th>Andijon viloyati</th>\n",
              "      <td>Andijon shahri</td>\n",
              "      <td>4200</td>\n",
              "      <td>1899000</td>\n",
              "    </tr>\n",
              "    <tr>\n",
              "      <th>Buxoro viloyati</th>\n",
              "      <td>Buxoro shahri</td>\n",
              "      <td>39400</td>\n",
              "      <td>1384700</td>\n",
              "    </tr>\n",
              "    <tr>\n",
              "      <th>Fargona viloyati</th>\n",
              "      <td>Fargona shahri</td>\n",
              "      <td>6800</td>\n",
              "      <td>2597000</td>\n",
              "    </tr>\n",
              "    <tr>\n",
              "      <th>Jizzax viloyati</th>\n",
              "      <td>Jizzax shahri</td>\n",
              "      <td>20500</td>\n",
              "      <td>910500</td>\n",
              "    </tr>\n",
              "    <tr>\n",
              "      <th>Xorazm viloyati</th>\n",
              "      <td>Urganch shahri</td>\n",
              "      <td>6300</td>\n",
              "      <td>1200000</td>\n",
              "    </tr>\n",
              "  </tbody>\n",
              "</table>\n",
              "</div>"
            ],
            "text/plain": [
              "                          Markaz  Maydoni  Aholisi\n",
              "Hudud                                             \n",
              "Andijon viloyati  Andijon shahri     4200  1899000\n",
              "Buxoro viloyati    Buxoro shahri    39400  1384700\n",
              "Fargona viloyati  Fargona shahri     6800  2597000\n",
              "Jizzax viloyati    Jizzax shahri    20500   910500\n",
              "Xorazm viloyati   Urganch shahri     6300  1200000"
            ]
          },
          "execution_count": 74,
          "metadata": {},
          "output_type": "execute_result"
        }
      ],
      "source": [
        "#@title **To'g'ri javob**\n",
        "df.set_index(df.columns[0], inplace=True)\n",
        "df.head()"
      ]
    },
    {
      "cell_type": "markdown",
      "metadata": {
        "id": "7MJn5cTQDiEG"
      },
      "source": [
        "### **9-mashq.** Yuqoridagi df dan, Aholisi 2 milliondan oshiq hududlar orasida Samarqand viloyati bor yoki yo'qligini tekshiring"
      ]
    },
    {
      "cell_type": "code",
      "execution_count": null,
      "metadata": {
        "id": "OI2FK8o3DiEH"
      },
      "outputs": [],
      "source": [
        "# Javobni shuyerga yozing\n"
      ]
    },
    {
      "cell_type": "code",
      "execution_count": null,
      "metadata": {
        "code_folding": [
          0
        ],
        "scrolled": true,
        "id": "NNbjASZLDiEH",
        "outputId": "9cba7616-3812-42b8-8eca-63bb280a2db2"
      },
      "outputs": [
        {
          "data": {
            "text/plain": [
              "True"
            ]
          },
          "execution_count": 60,
          "metadata": {},
          "output_type": "execute_result"
        }
      ],
      "source": [
        "#@title **To'g'ri javob**\n",
        "\"Samarqand viloyati\" in df[df.Aholisi>2_000_000].index"
      ]
    },
    {
      "cell_type": "markdown",
      "metadata": {
        "id": "f3Wbu_EuDiEH"
      },
      "source": [
        "### **10-mashq.**  Yuqoridagi df dan faqatgina Andijon, Farg'ona va Namangan viloyatlarini ajratib ko'rsating"
      ]
    },
    {
      "cell_type": "code",
      "execution_count": null,
      "metadata": {
        "id": "FELm11J7DiEH"
      },
      "outputs": [],
      "source": [
        "# Javobni shuyerga yozing\n"
      ]
    },
    {
      "cell_type": "code",
      "execution_count": null,
      "metadata": {
        "code_folding": [
          0
        ],
        "scrolled": true,
        "id": "w0_iqQ_8DiEH",
        "outputId": "2d0d7efc-1d47-42a1-9fb8-f5112af5d194"
      },
      "outputs": [
        {
          "data": {
            "text/html": [
              "<div>\n",
              "<style scoped>\n",
              "    .dataframe tbody tr th:only-of-type {\n",
              "        vertical-align: middle;\n",
              "    }\n",
              "\n",
              "    .dataframe tbody tr th {\n",
              "        vertical-align: top;\n",
              "    }\n",
              "\n",
              "    .dataframe thead th {\n",
              "        text-align: right;\n",
              "    }\n",
              "</style>\n",
              "<table border=\"1\" class=\"dataframe\">\n",
              "  <thead>\n",
              "    <tr style=\"text-align: right;\">\n",
              "      <th></th>\n",
              "      <th>Markaz</th>\n",
              "      <th>Maydoni</th>\n",
              "      <th>Aholisi</th>\n",
              "    </tr>\n",
              "    <tr>\n",
              "      <th>Hudud</th>\n",
              "      <th></th>\n",
              "      <th></th>\n",
              "      <th></th>\n",
              "    </tr>\n",
              "  </thead>\n",
              "  <tbody>\n",
              "    <tr>\n",
              "      <th>Andijon viloyati</th>\n",
              "      <td>Andijon shahri</td>\n",
              "      <td>4200</td>\n",
              "      <td>1899000</td>\n",
              "    </tr>\n",
              "    <tr>\n",
              "      <th>Fargona viloyati</th>\n",
              "      <td>Fargona shahri</td>\n",
              "      <td>6800</td>\n",
              "      <td>2597000</td>\n",
              "    </tr>\n",
              "    <tr>\n",
              "      <th>Namangan viloyati</th>\n",
              "      <td>Namangan shahri</td>\n",
              "      <td>7900</td>\n",
              "      <td>1862000</td>\n",
              "    </tr>\n",
              "  </tbody>\n",
              "</table>\n",
              "</div>"
            ],
            "text/plain": [
              "                            Markaz  Maydoni  Aholisi\n",
              "Hudud                                               \n",
              "Andijon viloyati    Andijon shahri     4200  1899000\n",
              "Fargona viloyati    Fargona shahri     6800  2597000\n",
              "Namangan viloyati  Namangan shahri     7900  1862000"
            ]
          },
          "execution_count": 75,
          "metadata": {},
          "output_type": "execute_result"
        }
      ],
      "source": [
        "#@title **To'g'ri javob**\n",
        "df.loc[[\"Andijon viloyati\",\"Fargona viloyati\",\"Namangan viloyati\"]]"
      ]
    },
    {
      "cell_type": "markdown",
      "metadata": {
        "id": "-hh336LdDiEI"
      },
      "source": [
        "### **11-mashq.**  Yuqoridagi df dan Samarqanda va Toshkent viloyatlarining aholisi va maydonini alohida df ko'rinishida chiqaring"
      ]
    },
    {
      "cell_type": "code",
      "execution_count": null,
      "metadata": {
        "id": "uDDctlUtDiEI"
      },
      "outputs": [],
      "source": [
        "# Javobni shuyerga yozing\n"
      ]
    },
    {
      "cell_type": "code",
      "execution_count": null,
      "metadata": {
        "code_folding": [
          0
        ],
        "scrolled": false,
        "id": "mGVTDfJNDiEI",
        "outputId": "808cb951-21b4-45a1-afb9-0625bbdafbeb"
      },
      "outputs": [
        {
          "data": {
            "text/html": [
              "<div>\n",
              "<style scoped>\n",
              "    .dataframe tbody tr th:only-of-type {\n",
              "        vertical-align: middle;\n",
              "    }\n",
              "\n",
              "    .dataframe tbody tr th {\n",
              "        vertical-align: top;\n",
              "    }\n",
              "\n",
              "    .dataframe thead th {\n",
              "        text-align: right;\n",
              "    }\n",
              "</style>\n",
              "<table border=\"1\" class=\"dataframe\">\n",
              "  <thead>\n",
              "    <tr style=\"text-align: right;\">\n",
              "      <th></th>\n",
              "      <th>Maydoni</th>\n",
              "      <th>Aholisi</th>\n",
              "    </tr>\n",
              "    <tr>\n",
              "      <th>Hudud</th>\n",
              "      <th></th>\n",
              "      <th></th>\n",
              "    </tr>\n",
              "  </thead>\n",
              "  <tbody>\n",
              "    <tr>\n",
              "      <th>Toshkent viloyati</th>\n",
              "      <td>15300</td>\n",
              "      <td>4450000</td>\n",
              "    </tr>\n",
              "    <tr>\n",
              "      <th>Samarqand viloyati</th>\n",
              "      <td>16400</td>\n",
              "      <td>2322000</td>\n",
              "    </tr>\n",
              "  </tbody>\n",
              "</table>\n",
              "</div>"
            ],
            "text/plain": [
              "                    Maydoni  Aholisi\n",
              "Hudud                               \n",
              "Toshkent viloyati     15300  4450000\n",
              "Samarqand viloyati    16400  2322000"
            ]
          },
          "execution_count": 76,
          "metadata": {},
          "output_type": "execute_result"
        }
      ],
      "source": [
        "#@title **To'g'ri javob**\n",
        "df.loc[['Toshkent viloyati','Samarqand viloyati'],['Maydoni','Aholisi']]"
      ]
    },
    {
      "cell_type": "markdown",
      "metadata": {
        "id": "dwQeEZRrDiEI"
      },
      "source": [
        "### **12-mashq.**  Yuqoridagi df dan yangi df_new DataFrame yarating. Yangi dataframega faqatgina aholisi 1.5mln dan kam bo'lgan hududlarni ko'chiring. "
      ]
    },
    {
      "cell_type": "code",
      "execution_count": null,
      "metadata": {
        "id": "neuNsT9xDiEI"
      },
      "outputs": [],
      "source": [
        "# Javobni shuyerga yozing\n"
      ]
    },
    {
      "cell_type": "code",
      "execution_count": null,
      "metadata": {
        "code_folding": [
          0
        ],
        "scrolled": true,
        "id": "tc9VDQrIDiEI",
        "outputId": "f8c23587-bee1-4eab-894f-973cfdbc5143"
      },
      "outputs": [
        {
          "data": {
            "text/html": [
              "<div>\n",
              "<style scoped>\n",
              "    .dataframe tbody tr th:only-of-type {\n",
              "        vertical-align: middle;\n",
              "    }\n",
              "\n",
              "    .dataframe tbody tr th {\n",
              "        vertical-align: top;\n",
              "    }\n",
              "\n",
              "    .dataframe thead th {\n",
              "        text-align: right;\n",
              "    }\n",
              "</style>\n",
              "<table border=\"1\" class=\"dataframe\">\n",
              "  <thead>\n",
              "    <tr style=\"text-align: right;\">\n",
              "      <th></th>\n",
              "      <th>Markaz</th>\n",
              "      <th>Maydoni</th>\n",
              "      <th>Aholisi</th>\n",
              "    </tr>\n",
              "    <tr>\n",
              "      <th>Hudud</th>\n",
              "      <th></th>\n",
              "      <th></th>\n",
              "      <th></th>\n",
              "    </tr>\n",
              "  </thead>\n",
              "  <tbody>\n",
              "    <tr>\n",
              "      <th>Buxoro viloyati</th>\n",
              "      <td>Buxoro shahri</td>\n",
              "      <td>39400</td>\n",
              "      <td>1384700</td>\n",
              "    </tr>\n",
              "    <tr>\n",
              "      <th>Jizzax viloyati</th>\n",
              "      <td>Jizzax shahri</td>\n",
              "      <td>20500</td>\n",
              "      <td>910500</td>\n",
              "    </tr>\n",
              "    <tr>\n",
              "      <th>Xorazm viloyati</th>\n",
              "      <td>Urganch shahri</td>\n",
              "      <td>6300</td>\n",
              "      <td>1200000</td>\n",
              "    </tr>\n",
              "    <tr>\n",
              "      <th>Navoiy viloyati</th>\n",
              "      <td>Navoiy shahri</td>\n",
              "      <td>110800</td>\n",
              "      <td>767500</td>\n",
              "    </tr>\n",
              "    <tr>\n",
              "      <th>Qoraqalpogʻiston Respublikasi</th>\n",
              "      <td>Nukus shahri</td>\n",
              "      <td>160000</td>\n",
              "      <td>1200000</td>\n",
              "    </tr>\n",
              "    <tr>\n",
              "      <th>Sirdaryo viloyati</th>\n",
              "      <td>Guliston shahri</td>\n",
              "      <td>5100</td>\n",
              "      <td>648100</td>\n",
              "    </tr>\n",
              "  </tbody>\n",
              "</table>\n",
              "</div>"
            ],
            "text/plain": [
              "                                        Markaz  Maydoni  Aholisi\n",
              "Hudud                                                           \n",
              "Buxoro viloyati                  Buxoro shahri    39400  1384700\n",
              "Jizzax viloyati                  Jizzax shahri    20500   910500\n",
              "Xorazm viloyati                 Urganch shahri     6300  1200000\n",
              "Navoiy viloyati                  Navoiy shahri   110800   767500\n",
              "Qoraqalpogʻiston Respublikasi     Nukus shahri   160000  1200000\n",
              "Sirdaryo viloyati              Guliston shahri     5100   648100"
            ]
          },
          "execution_count": 78,
          "metadata": {},
          "output_type": "execute_result"
        }
      ],
      "source": [
        "#@title **To'g'ri javob**\n",
        "df_new = df[df.Aholisi<1_500_000]\n",
        "df_new"
      ]
    },
    {
      "cell_type": "markdown",
      "metadata": {
        "id": "LZQ8H8hZDiEJ"
      },
      "source": [
        "### **13-mashq.**  Yangi df qatorlari orasida Navoiy, Namangan va Xorazm viloyatlari borligini tekshiring"
      ]
    },
    {
      "cell_type": "code",
      "execution_count": null,
      "metadata": {
        "id": "BaF0FFGyDiEJ"
      },
      "outputs": [],
      "source": [
        "# Javobni shuyerga yozing\n"
      ]
    },
    {
      "cell_type": "code",
      "execution_count": null,
      "metadata": {
        "code_folding": [
          0
        ],
        "scrolled": true,
        "id": "WLZ--EeWDiEJ",
        "outputId": "b5ef240a-102f-4a5a-abf2-d9baf4f52872"
      },
      "outputs": [
        {
          "data": {
            "text/plain": [
              "array([ True, False,  True])"
            ]
          },
          "execution_count": 81,
          "metadata": {},
          "output_type": "execute_result"
        }
      ],
      "source": [
        "#@title **To'g'ri javob**\n",
        "pd.Index(['Navoiy viloyati','Namangan viloyati','Xorazm viloyati']).isin(df_new.index)"
      ]
    },
    {
      "cell_type": "markdown",
      "metadata": {
        "id": "1U0Kdf4uDiEJ"
      },
      "source": [
        "### **14-mashq.**  Aholisi 1milliondan ko'p, lekin maydoni 10000kv.km dan kam hududlarni chiqaring"
      ]
    },
    {
      "cell_type": "code",
      "execution_count": null,
      "metadata": {
        "id": "E61Hp0IWDiEJ"
      },
      "outputs": [],
      "source": [
        "# Javobni shuyerga yozing\n"
      ]
    },
    {
      "cell_type": "code",
      "execution_count": null,
      "metadata": {
        "code_folding": [
          0
        ],
        "scrolled": false,
        "id": "LbJE4xHADiEJ",
        "outputId": "163b0d3d-dcd4-4c6f-e187-90f734dad9bc"
      },
      "outputs": [
        {
          "data": {
            "text/html": [
              "<div>\n",
              "<style scoped>\n",
              "    .dataframe tbody tr th:only-of-type {\n",
              "        vertical-align: middle;\n",
              "    }\n",
              "\n",
              "    .dataframe tbody tr th {\n",
              "        vertical-align: top;\n",
              "    }\n",
              "\n",
              "    .dataframe thead th {\n",
              "        text-align: right;\n",
              "    }\n",
              "</style>\n",
              "<table border=\"1\" class=\"dataframe\">\n",
              "  <thead>\n",
              "    <tr style=\"text-align: right;\">\n",
              "      <th></th>\n",
              "      <th>Markaz</th>\n",
              "      <th>Maydoni</th>\n",
              "      <th>Aholisi</th>\n",
              "    </tr>\n",
              "    <tr>\n",
              "      <th>Hudud</th>\n",
              "      <th></th>\n",
              "      <th></th>\n",
              "      <th></th>\n",
              "    </tr>\n",
              "  </thead>\n",
              "  <tbody>\n",
              "    <tr>\n",
              "      <th>Andijon viloyati</th>\n",
              "      <td>Andijon shahri</td>\n",
              "      <td>4200</td>\n",
              "      <td>1899000</td>\n",
              "    </tr>\n",
              "    <tr>\n",
              "      <th>Fargona viloyati</th>\n",
              "      <td>Fargona shahri</td>\n",
              "      <td>6800</td>\n",
              "      <td>2597000</td>\n",
              "    </tr>\n",
              "    <tr>\n",
              "      <th>Xorazm viloyati</th>\n",
              "      <td>Urganch shahri</td>\n",
              "      <td>6300</td>\n",
              "      <td>1200000</td>\n",
              "    </tr>\n",
              "    <tr>\n",
              "      <th>Namangan viloyati</th>\n",
              "      <td>Namangan shahri</td>\n",
              "      <td>7900</td>\n",
              "      <td>1862000</td>\n",
              "    </tr>\n",
              "  </tbody>\n",
              "</table>\n",
              "</div>"
            ],
            "text/plain": [
              "                            Markaz  Maydoni  Aholisi\n",
              "Hudud                                               \n",
              "Andijon viloyati    Andijon shahri     4200  1899000\n",
              "Fargona viloyati    Fargona shahri     6800  2597000\n",
              "Xorazm viloyati     Urganch shahri     6300  1200000\n",
              "Namangan viloyati  Namangan shahri     7900  1862000"
            ]
          },
          "execution_count": 96,
          "metadata": {},
          "output_type": "execute_result"
        }
      ],
      "source": [
        "#@title **To'g'ri javob**\n",
        "df[(df.Aholisi>1_000_000) & (df.Maydoni<10000)]"
      ]
    },
    {
      "cell_type": "markdown",
      "metadata": {
        "id": "kmP4dOLlDiEJ"
      },
      "source": [
        "### **15-mashq.**  Aholisi 1milliondan kam, lekin maydoni 10000kv.km dan ko'p hududlarni chiqaring"
      ]
    },
    {
      "cell_type": "code",
      "execution_count": null,
      "metadata": {
        "id": "r_gCY9wODiEJ"
      },
      "outputs": [],
      "source": [
        "# Javobni shuyerga yozing\n"
      ]
    },
    {
      "cell_type": "code",
      "execution_count": null,
      "metadata": {
        "code_folding": [
          0
        ],
        "scrolled": false,
        "id": "DCIreshnDiEJ",
        "outputId": "2d60d9af-1bff-4670-e2d0-33bb89c31e57"
      },
      "outputs": [
        {
          "data": {
            "text/html": [
              "<div>\n",
              "<style scoped>\n",
              "    .dataframe tbody tr th:only-of-type {\n",
              "        vertical-align: middle;\n",
              "    }\n",
              "\n",
              "    .dataframe tbody tr th {\n",
              "        vertical-align: top;\n",
              "    }\n",
              "\n",
              "    .dataframe thead th {\n",
              "        text-align: right;\n",
              "    }\n",
              "</style>\n",
              "<table border=\"1\" class=\"dataframe\">\n",
              "  <thead>\n",
              "    <tr style=\"text-align: right;\">\n",
              "      <th></th>\n",
              "      <th>Markaz</th>\n",
              "      <th>Maydoni</th>\n",
              "      <th>Aholisi</th>\n",
              "    </tr>\n",
              "    <tr>\n",
              "      <th>Hudud</th>\n",
              "      <th></th>\n",
              "      <th></th>\n",
              "      <th></th>\n",
              "    </tr>\n",
              "  </thead>\n",
              "  <tbody>\n",
              "    <tr>\n",
              "      <th>Jizzax viloyati</th>\n",
              "      <td>Jizzax shahri</td>\n",
              "      <td>20500</td>\n",
              "      <td>910500</td>\n",
              "    </tr>\n",
              "    <tr>\n",
              "      <th>Navoiy viloyati</th>\n",
              "      <td>Navoiy shahri</td>\n",
              "      <td>110800</td>\n",
              "      <td>767500</td>\n",
              "    </tr>\n",
              "  </tbody>\n",
              "</table>\n",
              "</div>"
            ],
            "text/plain": [
              "                        Markaz  Maydoni  Aholisi\n",
              "Hudud                                           \n",
              "Jizzax viloyati  Jizzax shahri    20500   910500\n",
              "Navoiy viloyati  Navoiy shahri   110800   767500"
            ]
          },
          "execution_count": 97,
          "metadata": {},
          "output_type": "execute_result"
        }
      ],
      "source": [
        "#@title **To'g'ri javob**\n",
        "df[(df.Aholisi<1_000_000) & (df.Maydoni>10000)]"
      ]
    },
    {
      "cell_type": "markdown",
      "metadata": {
        "id": "SQjL_2vcDiEJ"
      },
      "source": [
        "### **16-mashq.**  Yuqoridagi df dan `Markaz` ustunini tashlab yuboring"
      ]
    },
    {
      "cell_type": "code",
      "execution_count": null,
      "metadata": {
        "id": "jfr21f8qDiEK"
      },
      "outputs": [],
      "source": [
        "# Javobni shuyerga yozing\n"
      ]
    },
    {
      "cell_type": "code",
      "execution_count": null,
      "metadata": {
        "code_folding": [
          0
        ],
        "scrolled": true,
        "id": "E-lC73iJDiEK",
        "outputId": "dfbda038-28a4-4020-f267-cd5034051365"
      },
      "outputs": [
        {
          "data": {
            "text/html": [
              "<div>\n",
              "<style scoped>\n",
              "    .dataframe tbody tr th:only-of-type {\n",
              "        vertical-align: middle;\n",
              "    }\n",
              "\n",
              "    .dataframe tbody tr th {\n",
              "        vertical-align: top;\n",
              "    }\n",
              "\n",
              "    .dataframe thead th {\n",
              "        text-align: right;\n",
              "    }\n",
              "</style>\n",
              "<table border=\"1\" class=\"dataframe\">\n",
              "  <thead>\n",
              "    <tr style=\"text-align: right;\">\n",
              "      <th></th>\n",
              "      <th>Maydoni</th>\n",
              "      <th>Aholisi</th>\n",
              "    </tr>\n",
              "    <tr>\n",
              "      <th>Hudud</th>\n",
              "      <th></th>\n",
              "      <th></th>\n",
              "    </tr>\n",
              "  </thead>\n",
              "  <tbody>\n",
              "    <tr>\n",
              "      <th>Andijon viloyati</th>\n",
              "      <td>4200</td>\n",
              "      <td>1899000</td>\n",
              "    </tr>\n",
              "    <tr>\n",
              "      <th>Buxoro viloyati</th>\n",
              "      <td>39400</td>\n",
              "      <td>1384700</td>\n",
              "    </tr>\n",
              "    <tr>\n",
              "      <th>Fargona viloyati</th>\n",
              "      <td>6800</td>\n",
              "      <td>2597000</td>\n",
              "    </tr>\n",
              "    <tr>\n",
              "      <th>Jizzax viloyati</th>\n",
              "      <td>20500</td>\n",
              "      <td>910500</td>\n",
              "    </tr>\n",
              "    <tr>\n",
              "      <th>Xorazm viloyati</th>\n",
              "      <td>6300</td>\n",
              "      <td>1200000</td>\n",
              "    </tr>\n",
              "    <tr>\n",
              "      <th>Namangan viloyati</th>\n",
              "      <td>7900</td>\n",
              "      <td>1862000</td>\n",
              "    </tr>\n",
              "    <tr>\n",
              "      <th>Navoiy viloyati</th>\n",
              "      <td>110800</td>\n",
              "      <td>767500</td>\n",
              "    </tr>\n",
              "    <tr>\n",
              "      <th>Qashqadaryo viloyati</th>\n",
              "      <td>28400</td>\n",
              "      <td>2029000</td>\n",
              "    </tr>\n",
              "    <tr>\n",
              "      <th>Qoraqalpogʻiston Respublikasi</th>\n",
              "      <td>160000</td>\n",
              "      <td>1200000</td>\n",
              "    </tr>\n",
              "    <tr>\n",
              "      <th>Samarqand viloyati</th>\n",
              "      <td>16400</td>\n",
              "      <td>2322000</td>\n",
              "    </tr>\n",
              "    <tr>\n",
              "      <th>Sirdaryo viloyati</th>\n",
              "      <td>5100</td>\n",
              "      <td>648100</td>\n",
              "    </tr>\n",
              "    <tr>\n",
              "      <th>Surxondaryo viloyati</th>\n",
              "      <td>20800</td>\n",
              "      <td>1676000</td>\n",
              "    </tr>\n",
              "    <tr>\n",
              "      <th>Toshkent viloyati</th>\n",
              "      <td>15300</td>\n",
              "      <td>4450000</td>\n",
              "    </tr>\n",
              "  </tbody>\n",
              "</table>\n",
              "</div>"
            ],
            "text/plain": [
              "                               Maydoni  Aholisi\n",
              "Hudud                                          \n",
              "Andijon viloyati                  4200  1899000\n",
              "Buxoro viloyati                  39400  1384700\n",
              "Fargona viloyati                  6800  2597000\n",
              "Jizzax viloyati                  20500   910500\n",
              "Xorazm viloyati                   6300  1200000\n",
              "Namangan viloyati                 7900  1862000\n",
              "Navoiy viloyati                 110800   767500\n",
              "Qashqadaryo viloyati             28400  2029000\n",
              "Qoraqalpogʻiston Respublikasi   160000  1200000\n",
              "Samarqand viloyati               16400  2322000\n",
              "Sirdaryo viloyati                 5100   648100\n",
              "Surxondaryo viloyati             20800  1676000\n",
              "Toshkent viloyati                15300  4450000"
            ]
          },
          "execution_count": 99,
          "metadata": {},
          "output_type": "execute_result"
        }
      ],
      "source": [
        "#@title **To'g'ri javob**\n",
        "df.drop(['Markaz'], axis=1)"
      ]
    },
    {
      "cell_type": "markdown",
      "metadata": {
        "id": "FrJTyvHvDiEK"
      },
      "source": [
        "### **17-mashq.**  Yuqoridagi df dan Sirdaryo viloyati aholisini chiqaring"
      ]
    },
    {
      "cell_type": "code",
      "execution_count": null,
      "metadata": {
        "id": "ACDOfLR9DiEK"
      },
      "outputs": [],
      "source": [
        "# Javobni shuyerga yozing\n"
      ]
    },
    {
      "cell_type": "code",
      "execution_count": null,
      "metadata": {
        "code_folding": [
          0
        ],
        "scrolled": false,
        "id": "YkHG2pOtDiEK",
        "outputId": "f4a2830d-ecf6-4425-d082-90a47cddb831"
      },
      "outputs": [
        {
          "data": {
            "text/plain": [
              "648100"
            ]
          },
          "execution_count": 102,
          "metadata": {},
          "output_type": "execute_result"
        }
      ],
      "source": [
        "#@title **To'g'ri javob**\n",
        "df.at['Sirdaryo viloyati','Aholisi']"
      ]
    },
    {
      "cell_type": "markdown",
      "metadata": {
        "id": "ucymplf4DiEK"
      },
      "source": [
        "### **18-mashq.**  Yuqoridagi df dan Buxoro viloyati maydonini chiqaring"
      ]
    },
    {
      "cell_type": "code",
      "execution_count": null,
      "metadata": {
        "id": "LhAVQS6EDiEK"
      },
      "outputs": [],
      "source": [
        "# Javobni shuyerga yozing\n"
      ]
    },
    {
      "cell_type": "code",
      "execution_count": null,
      "metadata": {
        "code_folding": [
          0
        ],
        "scrolled": true,
        "id": "ZGethx1QDiEK",
        "outputId": "bde30bf0-4d03-4dda-9f78-07a919816e9d"
      },
      "outputs": [
        {
          "data": {
            "text/plain": [
              "39400"
            ]
          },
          "execution_count": 103,
          "metadata": {},
          "output_type": "execute_result"
        }
      ],
      "source": [
        "#@title **To'g'ri javob**\n",
        "df.at['Buxoro viloyati','Maydoni']"
      ]
    },
    {
      "cell_type": "markdown",
      "metadata": {
        "id": "SIgSNIKVDiEK"
      },
      "source": [
        "### **19-mashq.**  Yuqoridagi df dan Toshkent viloyati maydoni O'zbekiston Respublikasining necha fozini tashkil qilishini toping"
      ]
    },
    {
      "cell_type": "code",
      "execution_count": null,
      "metadata": {
        "id": "8nilL8RJDiEK"
      },
      "outputs": [],
      "source": [
        "# Javobni shuyerga yozing\n"
      ]
    },
    {
      "cell_type": "code",
      "execution_count": null,
      "metadata": {
        "code_folding": [
          0
        ],
        "scrolled": false,
        "id": "ubJGvjYMDiEL",
        "outputId": "8c022e5f-3dfd-421d-cf73-bb1dd95a876c"
      },
      "outputs": [
        {
          "name": "stdout",
          "output_type": "stream",
          "text": [
            "Toshkent viloyati maydoni: 15300 kv.km\n",
            "O'zbekiston Respublikasi maydoni: 441900 kv.km\n",
            "Toshkent viloyati maydoni O'zbekiston respublikasining 3% ni tashkil qiladi\n"
          ]
        }
      ],
      "source": [
        "#@title **To'g'ri javob**\n",
        "tosh_area = df.at['Toshkent viloyati','Maydoni']\n",
        "uzb_area = sum(df.Maydoni) # yoki\n",
        "# uzb_area = df.Maydoni.sum()\n",
        "print(f\"Toshkent viloyati maydoni: {tosh_area} kv.km\")\n",
        "print(f\"O'zbekiston Respublikasi maydoni: {uzb_area} kv.km\")\n",
        "print(f\"Toshkent viloyati maydoni O'zbekiston respublikasining {round(tosh_area/uzb_area*100)}% ni tashkil qiladi\")"
      ]
    },
    {
      "cell_type": "markdown",
      "metadata": {
        "id": "lg8ewDX7DiEL"
      },
      "source": [
        "### **20-mashq.**  Yuqoridagi df dan Toshkent viloyati aholisi O'zbekiston Respublikasining necha fozini tashkil qilishini toping"
      ]
    },
    {
      "cell_type": "code",
      "execution_count": null,
      "metadata": {
        "id": "WnlZjKhIDiEL"
      },
      "outputs": [],
      "source": [
        "# Javobni shuyerga yozing\n"
      ]
    },
    {
      "cell_type": "code",
      "execution_count": null,
      "metadata": {
        "code_folding": [
          0
        ],
        "scrolled": false,
        "id": "RyTnhshpDiEL",
        "outputId": "fd54e126-7a4b-4572-fb05-4d7eb74eaffa"
      },
      "outputs": [
        {
          "name": "stdout",
          "output_type": "stream",
          "text": [
            "Toshkent viloyati aholisi: 4450000 kishi\n",
            "O'zbekiston Respublikasi aholisi: 22945800 kishi\n",
            "Toshkent viloyati aholisi O'zbekiston respublikasining 19% ni tashkil qiladi\n"
          ]
        }
      ],
      "source": [
        "#@title **To'g'ri javob**\n",
        "tosh_area = df.at['Toshkent viloyati','Aholisi']\n",
        "uzb_area = sum(df.Aholisi) # yoki\n",
        "# uzb_area = df.Maydoni.sum()\n",
        "print(f\"Toshkent viloyati aholisi: {tosh_area} kishi\")\n",
        "print(f\"O'zbekiston Respublikasi aholisi: {uzb_area} kishi\")\n",
        "print(f\"Toshkent viloyati aholisi O'zbekiston respublikasining {round(tosh_area/uzb_area*100)}% ni tashkil qiladi\")"
      ]
    }
  ],
  "metadata": {
    "colab": {
      "name": "DS_pandas_2_amaliyot_df.ipynb",
      "provenance": [],
      "include_colab_link": true
    },
    "kernelspec": {
      "display_name": "Python 3",
      "language": "python",
      "name": "python3"
    },
    "language_info": {
      "codemirror_mode": {
        "name": "ipython",
        "version": 3
      },
      "file_extension": ".py",
      "mimetype": "text/x-python",
      "name": "python",
      "nbconvert_exporter": "python",
      "pygments_lexer": "ipython3",
      "version": "3.8.8"
    },
    "accelerator": "GPU"
  },
  "nbformat": 4,
  "nbformat_minor": 0
}