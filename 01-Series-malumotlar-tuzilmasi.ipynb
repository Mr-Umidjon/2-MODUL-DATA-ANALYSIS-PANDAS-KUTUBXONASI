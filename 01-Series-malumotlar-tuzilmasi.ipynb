{
 "cells": [
  {
   "cell_type": "code",
   "execution_count": 1,
   "id": "7203230e-a854-4a1c-a1e5-015f3517a2ef",
   "metadata": {},
   "outputs": [],
   "source": [
    "import pandas as pd\n",
    "import numpy as np"
   ]
  },
  {
   "cell_type": "code",
   "execution_count": 2,
   "id": "dc652934-0cf4-46f0-b5cc-adaedd2159e8",
   "metadata": {},
   "outputs": [],
   "source": [
    "from pandas import Series, DataFrame as df # DataFrameni qisqacha qilib df deb chariqib oldik"
   ]
  },
  {
   "cell_type": "code",
   "execution_count": 3,
   "id": "1a4ca809-ffd8-41bd-b435-b02f7c16ffc9",
   "metadata": {},
   "outputs": [],
   "source": [
    "obj = Series([1, 3.4, 5.6, 7, 8])"
   ]
  },
  {
   "cell_type": "code",
   "execution_count": 4,
   "id": "9f93e7b8-ed5f-489b-aec3-b6dd504c9597",
   "metadata": {},
   "outputs": [
    {
     "data": {
      "text/plain": [
       "0    1.0\n",
       "1    3.4\n",
       "2    5.6\n",
       "3    7.0\n",
       "4    8.0\n",
       "dtype: float64"
      ]
     },
     "execution_count": 4,
     "metadata": {},
     "output_type": "execute_result"
    }
   ],
   "source": [
    "obj"
   ]
  },
  {
   "cell_type": "code",
   "execution_count": 7,
   "id": "a5beac77-b496-463f-8977-6d62a087be26",
   "metadata": {},
   "outputs": [
    {
     "data": {
      "text/plain": [
       "array([1. , 3.4, 5.6, 7. , 8. ])"
      ]
     },
     "execution_count": 7,
     "metadata": {},
     "output_type": "execute_result"
    }
   ],
   "source": [
    "obj.values # qiymatlar"
   ]
  },
  {
   "cell_type": "code",
   "execution_count": 9,
   "id": "f59e7e48-7ad8-4aad-ae9d-8e0f4a4551a8",
   "metadata": {},
   "outputs": [
    {
     "data": {
      "text/plain": [
       "RangeIndex(start=0, stop=5, step=1)"
      ]
     },
     "execution_count": 9,
     "metadata": {},
     "output_type": "execute_result"
    }
   ],
   "source": [
    "obj.index # indexlar"
   ]
  },
  {
   "cell_type": "code",
   "execution_count": 10,
   "id": "5939ccdd-ebf7-4ffd-a9e3-d28662306828",
   "metadata": {},
   "outputs": [
    {
     "data": {
      "text/plain": [
       "1.0"
      ]
     },
     "execution_count": 10,
     "metadata": {},
     "output_type": "execute_result"
    }
   ],
   "source": [
    "obj[0] # birinchi element"
   ]
  },
  {
   "cell_type": "code",
   "execution_count": 12,
   "id": "d220db9e-70ec-4129-9fc9-a0ee6f91919c",
   "metadata": {},
   "outputs": [
    {
     "data": {
      "text/plain": [
       "7.0"
      ]
     },
     "execution_count": 12,
     "metadata": {},
     "output_type": "execute_result"
    }
   ],
   "source": [
    "obj[3]"
   ]
  },
  {
   "cell_type": "code",
   "execution_count": 15,
   "id": "9ba7055e-3113-43c6-ad7c-8b6daae7d46e",
   "metadata": {},
   "outputs": [],
   "source": [
    "obj2 = Series([1, 12, 4, 6, 7, 19], index=['a', 'b', 'c', 'd', 'e', 'f'])"
   ]
  },
  {
   "cell_type": "code",
   "execution_count": 16,
   "id": "36874fc3-3929-4581-80bf-6666b0be5955",
   "metadata": {},
   "outputs": [
    {
     "data": {
      "text/plain": [
       "a     1\n",
       "b    12\n",
       "c     4\n",
       "d     6\n",
       "e     7\n",
       "f    19\n",
       "dtype: int64"
      ]
     },
     "execution_count": 16,
     "metadata": {},
     "output_type": "execute_result"
    }
   ],
   "source": [
    "obj2"
   ]
  },
  {
   "cell_type": "code",
   "execution_count": 18,
   "id": "b1e80954-e719-417a-b13b-ea9eddc35722",
   "metadata": {},
   "outputs": [
    {
     "data": {
      "text/plain": [
       "19"
      ]
     },
     "execution_count": 18,
     "metadata": {},
     "output_type": "execute_result"
    }
   ],
   "source": [
    "obj2['f']"
   ]
  },
  {
   "cell_type": "code",
   "execution_count": 19,
   "id": "b3505537-1869-480b-9976-eeeee518bb55",
   "metadata": {},
   "outputs": [
    {
     "data": {
      "text/plain": [
       "6"
      ]
     },
     "execution_count": 19,
     "metadata": {},
     "output_type": "execute_result"
    }
   ],
   "source": [
    "obj2['d']"
   ]
  },
  {
   "cell_type": "code",
   "execution_count": 20,
   "id": "d80f65f2-fe00-4bfb-bf1f-fe962f332141",
   "metadata": {},
   "outputs": [
    {
     "data": {
      "text/plain": [
       "1"
      ]
     },
     "execution_count": 20,
     "metadata": {},
     "output_type": "execute_result"
    }
   ],
   "source": [
    "obj2['a']"
   ]
  },
  {
   "cell_type": "code",
   "execution_count": 21,
   "id": "61b80c6f-aa92-4357-9dfe-e65cf0ee819d",
   "metadata": {},
   "outputs": [],
   "source": [
    "obj2['a']=11"
   ]
  },
  {
   "cell_type": "code",
   "execution_count": 22,
   "id": "e6af37e9-9899-4e81-bf3e-f6c89dfd3f75",
   "metadata": {},
   "outputs": [
    {
     "data": {
      "text/plain": [
       "a    11\n",
       "b    12\n",
       "c     4\n",
       "d     6\n",
       "e     7\n",
       "f    19\n",
       "dtype: int64"
      ]
     },
     "execution_count": 22,
     "metadata": {},
     "output_type": "execute_result"
    }
   ],
   "source": [
    "obj2"
   ]
  },
  {
   "cell_type": "code",
   "execution_count": 23,
   "id": "be1dc8b1-32ff-4802-80ac-adf6c01428ef",
   "metadata": {},
   "outputs": [],
   "source": [
    "obj2['e']=8"
   ]
  },
  {
   "cell_type": "code",
   "execution_count": 24,
   "id": "71303747-b006-462a-a2b7-6bc4c24f0252",
   "metadata": {},
   "outputs": [
    {
     "data": {
      "text/plain": [
       "a    11\n",
       "b    12\n",
       "c     4\n",
       "d     6\n",
       "e     8\n",
       "f    19\n",
       "dtype: int64"
      ]
     },
     "execution_count": 24,
     "metadata": {},
     "output_type": "execute_result"
    }
   ],
   "source": [
    "obj2"
   ]
  },
  {
   "cell_type": "code",
   "execution_count": 25,
   "id": "928f1ebf-b859-4b66-867d-fb0e5964da01",
   "metadata": {},
   "outputs": [
    {
     "data": {
      "text/plain": [
       "a    11\n",
       "c     4\n",
       "e     8\n",
       "dtype: int64"
      ]
     },
     "execution_count": 25,
     "metadata": {},
     "output_type": "execute_result"
    }
   ],
   "source": [
    "obj2[['a', 'c', 'e']]"
   ]
  },
  {
   "cell_type": "code",
   "execution_count": 26,
   "id": "3b3b179f-25b3-43ad-a7ac-e045a0a8d7e8",
   "metadata": {},
   "outputs": [
    {
     "data": {
      "text/plain": [
       "a    11\n",
       "b    12\n",
       "c     4\n",
       "d     6\n",
       "e     8\n",
       "f    19\n",
       "dtype: int64"
      ]
     },
     "execution_count": 26,
     "metadata": {},
     "output_type": "execute_result"
    }
   ],
   "source": [
    "obj2[obj2>3]"
   ]
  },
  {
   "cell_type": "code",
   "execution_count": 27,
   "id": "b2206a3a-d3ce-4529-b284-c9f6125b9e7d",
   "metadata": {},
   "outputs": [
    {
     "data": {
      "text/plain": [
       "c    4\n",
       "d    6\n",
       "e    8\n",
       "dtype: int64"
      ]
     },
     "execution_count": 27,
     "metadata": {},
     "output_type": "execute_result"
    }
   ],
   "source": [
    "obj2[obj2<10]"
   ]
  },
  {
   "cell_type": "code",
   "execution_count": 28,
   "id": "69a9dbaa-ad56-4114-83be-b7b317d2f506",
   "metadata": {},
   "outputs": [
    {
     "data": {
      "text/plain": [
       "a    11\n",
       "b    12\n",
       "c     4\n",
       "d     6\n",
       "e     8\n",
       "f    19\n",
       "dtype: int64"
      ]
     },
     "execution_count": 28,
     "metadata": {},
     "output_type": "execute_result"
    }
   ],
   "source": [
    "obj2[obj2>0]"
   ]
  },
  {
   "cell_type": "code",
   "execution_count": 29,
   "id": "b0921971-3cf2-4ada-8e1c-530ade9f2f23",
   "metadata": {},
   "outputs": [
    {
     "data": {
      "text/plain": [
       "a    11\n",
       "b    12\n",
       "c     4\n",
       "d     6\n",
       "e     8\n",
       "f    19\n",
       "dtype: int64"
      ]
     },
     "execution_count": 29,
     "metadata": {},
     "output_type": "execute_result"
    }
   ],
   "source": [
    "obj2"
   ]
  },
  {
   "cell_type": "code",
   "execution_count": 30,
   "id": "01a50db4-be57-40db-a3ef-30db58281935",
   "metadata": {},
   "outputs": [
    {
     "data": {
      "text/plain": [
       "a    22\n",
       "b    24\n",
       "c     8\n",
       "d    12\n",
       "e    16\n",
       "f    38\n",
       "dtype: int64"
      ]
     },
     "execution_count": 30,
     "metadata": {},
     "output_type": "execute_result"
    }
   ],
   "source": [
    "obj2*2"
   ]
  },
  {
   "cell_type": "code",
   "execution_count": 31,
   "id": "3f6307ae-f352-4363-93f4-c67f7e4da300",
   "metadata": {},
   "outputs": [
    {
     "data": {
      "text/plain": [
       "a    5.987414e+04\n",
       "b    1.627548e+05\n",
       "c    5.459815e+01\n",
       "d    4.034288e+02\n",
       "e    2.980958e+03\n",
       "f    1.784823e+08\n",
       "dtype: float64"
      ]
     },
     "execution_count": 31,
     "metadata": {},
     "output_type": "execute_result"
    }
   ],
   "source": [
    "np.exp(obj2)"
   ]
  },
  {
   "cell_type": "code",
   "execution_count": null,
   "id": "d47365af-9047-4e24-8031-af8233fa7d12",
   "metadata": {},
   "outputs": [],
   "source": []
  }
 ],
 "metadata": {
  "kernelspec": {
   "display_name": "Python 3 (ipykernel)",
   "language": "python",
   "name": "python3"
  },
  "language_info": {
   "codemirror_mode": {
    "name": "ipython",
    "version": 3
   },
   "file_extension": ".py",
   "mimetype": "text/x-python",
   "name": "python",
   "nbconvert_exporter": "python",
   "pygments_lexer": "ipython3",
   "version": "3.9.7"
  }
 },
 "nbformat": 4,
 "nbformat_minor": 5
}
