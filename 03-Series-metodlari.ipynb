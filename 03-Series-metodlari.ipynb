{
 "cells": [
  {
   "cell_type": "code",
   "execution_count": 1,
   "id": "3e03165e-2730-4ccd-a1fb-d0ca14f96e0c",
   "metadata": {},
   "outputs": [],
   "source": [
    "import numpy as np\n",
    "import pandas as pd"
   ]
  },
  {
   "cell_type": "code",
   "execution_count": 2,
   "id": "5fce6816-b680-497d-9e1d-ed2053b230d0",
   "metadata": {},
   "outputs": [],
   "source": [
    "from pandas import Series"
   ]
  },
  {
   "cell_type": "code",
   "execution_count": 5,
   "id": "5c94e593-6ec9-4da1-8231-402e9d9cf19d",
   "metadata": {},
   "outputs": [],
   "source": [
    "cars_dict = {'Malibu':40000, 'Lacetti':20000, 'Toyota':45000, 'Mazda':52000, 'Honda':38000} # bu lug'at\n",
    "models = ['Honda','Mazda','Lacetti','Jaguar','Malibu','Toyota'] # buyerda bitta qo'shimcha model bor"
   ]
  },
  {
   "cell_type": "code",
   "execution_count": 6,
   "id": "7870dc31-bbdb-453b-a6d5-48032f50bfab",
   "metadata": {},
   "outputs": [],
   "source": [
    "salon2 = Series(cars_dict, index=models)"
   ]
  },
  {
   "cell_type": "code",
   "execution_count": 8,
   "id": "0a6ce710-a8ac-49b5-9740-b4d0ce393c3f",
   "metadata": {},
   "outputs": [
    {
     "data": {
      "text/plain": [
       "Honda      38000.0\n",
       "Mazda      52000.0\n",
       "Lacetti    20000.0\n",
       "Jaguar         NaN\n",
       "Malibu     40000.0\n",
       "Toyota     45000.0\n",
       "dtype: float64"
      ]
     },
     "execution_count": 8,
     "metadata": {},
     "output_type": "execute_result"
    }
   ],
   "source": [
    "salon2"
   ]
  },
  {
   "cell_type": "code",
   "execution_count": 9,
   "id": "fa7aa7aa-1818-4363-b960-ee172eafc1aa",
   "metadata": {},
   "outputs": [
    {
     "data": {
      "text/plain": [
       "Honda      False\n",
       "Mazda      False\n",
       "Lacetti    False\n",
       "Jaguar      True\n",
       "Malibu     False\n",
       "Toyota     False\n",
       "dtype: bool"
      ]
     },
     "execution_count": 9,
     "metadata": {},
     "output_type": "execute_result"
    }
   ],
   "source": [
    "salon2.isnull() # qiymat null (mavjud emasligini) tekshirish uchun"
   ]
  },
  {
   "cell_type": "code",
   "execution_count": 13,
   "id": "c5b20716-2e3a-4486-b8a7-3d3518aad716",
   "metadata": {},
   "outputs": [
    {
     "data": {
      "text/plain": [
       "Honda       True\n",
       "Mazda       True\n",
       "Lacetti     True\n",
       "Jaguar     False\n",
       "Malibu      True\n",
       "Toyota      True\n",
       "dtype: bool"
      ]
     },
     "execution_count": 13,
     "metadata": {},
     "output_type": "execute_result"
    }
   ],
   "source": [
    "salon2.notnull() # qiymat null emasligini (mavjudligini) tekshirish uchun"
   ]
  },
  {
   "cell_type": "code",
   "execution_count": 14,
   "id": "9f902e28-9492-46c7-98be-954f6d4fce37",
   "metadata": {},
   "outputs": [
    {
     "data": {
      "text/plain": [
       "Honda      38000.0\n",
       "Mazda      52000.0\n",
       "Lacetti    20000.0\n",
       "Jaguar         NaN\n",
       "Malibu     40000.0\n",
       "Toyota     45000.0\n",
       "dtype: float64"
      ]
     },
     "execution_count": 14,
     "metadata": {},
     "output_type": "execute_result"
    }
   ],
   "source": [
    "salon2"
   ]
  },
  {
   "cell_type": "code",
   "execution_count": 15,
   "id": "27921ba1-8b62-4777-bb13-887ba0a475d2",
   "metadata": {},
   "outputs": [],
   "source": [
    "# 'Honda','Mazda','Lacetti','Jaguar','Malibu','Toyota'\n",
    "new_prices = Series({\"Honda\":5000, \"Mazda\":-3000, \"Malibu\":4500, \"Toyota\":5200, 'Lacetti':-1200})"
   ]
  },
  {
   "cell_type": "code",
   "execution_count": 17,
   "id": "605c9034-5a0e-45ff-a8f8-a760adba7b18",
   "metadata": {},
   "outputs": [
    {
     "data": {
      "text/plain": [
       "Honda      5000\n",
       "Mazda     -3000\n",
       "Malibu     4500\n",
       "Toyota     5200\n",
       "Lacetti   -1200\n",
       "dtype: int64"
      ]
     },
     "execution_count": 17,
     "metadata": {},
     "output_type": "execute_result"
    }
   ],
   "source": [
    "new_prices"
   ]
  },
  {
   "cell_type": "code",
   "execution_count": 18,
   "id": "06fa3b95-89ee-4d97-9d63-bc7cc0750512",
   "metadata": {},
   "outputs": [
    {
     "data": {
      "text/plain": [
       "Honda      43000.0\n",
       "Jaguar         NaN\n",
       "Lacetti    18800.0\n",
       "Malibu     44500.0\n",
       "Mazda      49000.0\n",
       "Toyota     50200.0\n",
       "dtype: float64"
      ]
     },
     "execution_count": 18,
     "metadata": {},
     "output_type": "execute_result"
    }
   ],
   "source": [
    "salon2 + new_prices"
   ]
  },
  {
   "cell_type": "code",
   "execution_count": 19,
   "id": "0b173c3c-93c3-4024-a1ba-770e30023f63",
   "metadata": {},
   "outputs": [],
   "source": [
    "salon2.name = \"Avtosalon\""
   ]
  },
  {
   "cell_type": "code",
   "execution_count": 20,
   "id": "ca2134dd-46ae-4576-ac67-5b0f4ff5dc63",
   "metadata": {},
   "outputs": [
    {
     "data": {
      "text/plain": [
       "Honda      38000.0\n",
       "Mazda      52000.0\n",
       "Lacetti    20000.0\n",
       "Jaguar         NaN\n",
       "Malibu     40000.0\n",
       "Toyota     45000.0\n",
       "Name: Avtosalon, dtype: float64"
      ]
     },
     "execution_count": 20,
     "metadata": {},
     "output_type": "execute_result"
    }
   ],
   "source": [
    "salon2"
   ]
  },
  {
   "cell_type": "code",
   "execution_count": 21,
   "id": "8c146e6d-3270-4a2f-8a01-e4a209cabaa2",
   "metadata": {},
   "outputs": [],
   "source": [
    "salon2.index.name = \"models\""
   ]
  },
  {
   "cell_type": "code",
   "execution_count": 22,
   "id": "9e623317-62f8-4e9d-95be-47a883c385c7",
   "metadata": {},
   "outputs": [
    {
     "data": {
      "text/plain": [
       "models\n",
       "Honda      38000.0\n",
       "Mazda      52000.0\n",
       "Lacetti    20000.0\n",
       "Jaguar         NaN\n",
       "Malibu     40000.0\n",
       "Toyota     45000.0\n",
       "Name: Avtosalon, dtype: float64"
      ]
     },
     "execution_count": 22,
     "metadata": {},
     "output_type": "execute_result"
    }
   ],
   "source": [
    "salon2"
   ]
  },
  {
   "cell_type": "code",
   "execution_count": 23,
   "id": "50bb3a26-4595-473d-9408-d751feb15bdc",
   "metadata": {},
   "outputs": [
    {
     "data": {
      "text/plain": [
       "'Avtosalon'"
      ]
     },
     "execution_count": 23,
     "metadata": {},
     "output_type": "execute_result"
    }
   ],
   "source": [
    "salon2.name"
   ]
  },
  {
   "cell_type": "code",
   "execution_count": 24,
   "id": "da494ce4-eea8-419d-b014-8c7622a36efc",
   "metadata": {},
   "outputs": [
    {
     "data": {
      "text/plain": [
       "'models'"
      ]
     },
     "execution_count": 24,
     "metadata": {},
     "output_type": "execute_result"
    }
   ],
   "source": [
    "salon2.index.name"
   ]
  },
  {
   "cell_type": "code",
   "execution_count": 25,
   "id": "f3576cfe-2fcc-41bb-aaf7-1798c88312c9",
   "metadata": {},
   "outputs": [
    {
     "data": {
      "text/plain": [
       "Index(['Honda', 'Mazda', 'Lacetti', 'Jaguar', 'Malibu', 'Toyota'], dtype='object', name='models')"
      ]
     },
     "execution_count": 25,
     "metadata": {},
     "output_type": "execute_result"
    }
   ],
   "source": [
    "salon2.index  # indekslar "
   ]
  },
  {
   "cell_type": "code",
   "execution_count": 27,
   "id": "98998673-52a6-4c44-8fe7-24478dfa3ea4",
   "metadata": {},
   "outputs": [
    {
     "data": {
      "text/plain": [
       "array([38000., 52000., 20000.,    nan, 40000., 45000.])"
      ]
     },
     "execution_count": 27,
     "metadata": {},
     "output_type": "execute_result"
    }
   ],
   "source": [
    "salon2.values # qiymatlar"
   ]
  },
  {
   "cell_type": "code",
   "execution_count": 29,
   "id": "0a764a4e-947d-48fb-a8bd-da9de97107b8",
   "metadata": {},
   "outputs": [
    {
     "data": {
      "text/plain": [
       "True"
      ]
     },
     "execution_count": 29,
     "metadata": {},
     "output_type": "execute_result"
    }
   ],
   "source": [
    "salon2.hasnans # NaN qiymatlar bor (True) yo'qligi (False)"
   ]
  },
  {
   "cell_type": "code",
   "execution_count": 31,
   "id": "d1c0e081-4e66-4071-9e0b-d22a88e0eeaf",
   "metadata": {},
   "outputs": [
    {
     "data": {
      "text/plain": [
       "dtype('float64')"
      ]
     },
     "execution_count": 31,
     "metadata": {},
     "output_type": "execute_result"
    }
   ],
   "source": [
    "salon2.dtype # qiymatlarning ma'lumot turi"
   ]
  },
  {
   "cell_type": "code",
   "execution_count": 32,
   "id": "d92a28f9-7fb4-4f50-93ca-fc3593e435a0",
   "metadata": {},
   "outputs": [
    {
     "data": {
      "text/plain": [
       "True"
      ]
     },
     "execution_count": 32,
     "metadata": {},
     "output_type": "execute_result"
    }
   ],
   "source": [
    "salon2.is_unique"
   ]
  },
  {
   "cell_type": "code",
   "execution_count": 33,
   "id": "d3835ab7-8346-4af5-b42b-8939138efc54",
   "metadata": {},
   "outputs": [
    {
     "data": {
      "text/plain": [
       "models\n",
       "Honda      38000.0\n",
       "Mazda      52000.0\n",
       "Lacetti    20000.0\n",
       "Jaguar         NaN\n",
       "Malibu     40000.0\n",
       "Toyota     45000.0\n",
       "Name: Avtosalon, dtype: float64"
      ]
     },
     "execution_count": 33,
     "metadata": {},
     "output_type": "execute_result"
    }
   ],
   "source": [
    "salon2"
   ]
  },
  {
   "cell_type": "code",
   "execution_count": 34,
   "id": "6d86aa0d-6d47-49cd-99d0-a3f356f026c6",
   "metadata": {},
   "outputs": [],
   "source": [
    "salon2['Jaguar'] = 20000"
   ]
  },
  {
   "cell_type": "code",
   "execution_count": 37,
   "id": "d3f926c8-b32f-4b7a-9d23-7a4407617a58",
   "metadata": {},
   "outputs": [
    {
     "data": {
      "text/plain": [
       "False"
      ]
     },
     "execution_count": 37,
     "metadata": {},
     "output_type": "execute_result"
    }
   ],
   "source": [
    "salon2.is_unique"
   ]
  },
  {
   "cell_type": "code",
   "execution_count": 38,
   "id": "738d9de9-dfc9-4c8a-b6bb-6cdf66c671a9",
   "metadata": {},
   "outputs": [
    {
     "data": {
      "text/plain": [
       "models\n",
       "Honda      38000.0\n",
       "Mazda      52000.0\n",
       "Lacetti    20000.0\n",
       "Jaguar     20000.0\n",
       "Malibu     40000.0\n",
       "Toyota     45000.0\n",
       "Name: Avtosalon, dtype: float64"
      ]
     },
     "execution_count": 38,
     "metadata": {},
     "output_type": "execute_result"
    }
   ],
   "source": [
    "salon2"
   ]
  },
  {
   "cell_type": "code",
   "execution_count": 40,
   "id": "42d70837-0030-4290-8a93-468cfaa8746f",
   "metadata": {},
   "outputs": [
    {
     "data": {
      "text/plain": [
       "(6,)"
      ]
     },
     "execution_count": 40,
     "metadata": {},
     "output_type": "execute_result"
    }
   ],
   "source": [
    "salon2.shape # Series hajmi"
   ]
  },
  {
   "cell_type": "code",
   "execution_count": 41,
   "id": "3076a9b3-5010-4c6c-afd1-6a9d09e6ddbd",
   "metadata": {},
   "outputs": [
    {
     "data": {
      "text/plain": [
       "6"
      ]
     },
     "execution_count": 41,
     "metadata": {},
     "output_type": "execute_result"
    }
   ],
   "source": [
    "salon2.size # Series hajmi"
   ]
  },
  {
   "cell_type": "code",
   "execution_count": 48,
   "id": "55efe4e1-a703-4a5c-9dc6-a3634282a557",
   "metadata": {},
   "outputs": [
    {
     "data": {
      "text/plain": [
       "52000.0"
      ]
     },
     "execution_count": 48,
     "metadata": {},
     "output_type": "execute_result"
    }
   ],
   "source": [
    "salon2.iloc[1] # ma'lumotlarga indeks tartib raqami bo'yicha murojaat qilish"
   ]
  },
  {
   "cell_type": "code",
   "execution_count": 49,
   "id": "c781f5b1-c883-44f2-b2a8-19d320f79697",
   "metadata": {},
   "outputs": [
    {
     "data": {
      "text/plain": [
       "45000.0"
      ]
     },
     "execution_count": 49,
     "metadata": {},
     "output_type": "execute_result"
    }
   ],
   "source": [
    "salon2.iloc[-1]"
   ]
  },
  {
   "cell_type": "code",
   "execution_count": 50,
   "id": "c1407be7-2f78-427a-8790-c945248270f6",
   "metadata": {},
   "outputs": [
    {
     "data": {
      "text/plain": [
       "models\n",
       "Honda      38000.0\n",
       "Mazda      52000.0\n",
       "Lacetti    20000.0\n",
       "Jaguar     20000.0\n",
       "Malibu     40000.0\n",
       "Toyota     45000.0\n",
       "Name: Avtosalon, dtype: float64"
      ]
     },
     "execution_count": 50,
     "metadata": {},
     "output_type": "execute_result"
    }
   ],
   "source": [
    "salon2"
   ]
  },
  {
   "cell_type": "code",
   "execution_count": 51,
   "id": "0b5a6579-9adc-4690-b3b6-ccc72c75f8c2",
   "metadata": {},
   "outputs": [
    {
     "data": {
      "text/plain": [
       "models\n",
       "Mazda      52000.0\n",
       "Lacetti    20000.0\n",
       "Name: Avtosalon, dtype: float64"
      ]
     },
     "execution_count": 51,
     "metadata": {},
     "output_type": "execute_result"
    }
   ],
   "source": [
    "salon2.iloc[1:3]"
   ]
  },
  {
   "cell_type": "code",
   "execution_count": 53,
   "id": "7a4d1a3e-c255-432a-8cd0-e8dea249b8d6",
   "metadata": {},
   "outputs": [
    {
     "data": {
      "text/plain": [
       "38000.0"
      ]
     },
     "execution_count": 53,
     "metadata": {},
     "output_type": "execute_result"
    }
   ],
   "source": [
    "salon2['Honda'] # ma'lumotlarga indeks bo'yicha murojaat qilish"
   ]
  },
  {
   "cell_type": "code",
   "execution_count": 55,
   "id": "cc4ac64d-e6a0-47d7-a998-466421f78a37",
   "metadata": {},
   "outputs": [
    {
     "data": {
      "text/plain": [
       "52000.0"
      ]
     },
     "execution_count": 55,
     "metadata": {},
     "output_type": "execute_result"
    }
   ],
   "source": [
    "salon2.loc['Mazda'] # ma'lumotlarga indeks bo'yicha murojaat qilish"
   ]
  },
  {
   "cell_type": "code",
   "execution_count": 56,
   "id": "f6c41c13-fb84-4437-8d62-d059485b0326",
   "metadata": {},
   "outputs": [
    {
     "data": {
      "text/plain": [
       "models\n",
       "Mazda      52000.0\n",
       "Lacetti    20000.0\n",
       "Jaguar     20000.0\n",
       "Name: Avtosalon, dtype: float64"
      ]
     },
     "execution_count": 56,
     "metadata": {},
     "output_type": "execute_result"
    }
   ],
   "source": [
    "salon2.loc['Mazda':\"Jaguar\"]"
   ]
  },
  {
   "cell_type": "code",
   "execution_count": 57,
   "id": "b1a93d82-0594-4d94-a43c-26e83e3e1009",
   "metadata": {},
   "outputs": [
    {
     "data": {
      "text/plain": [
       "52000.0"
      ]
     },
     "execution_count": 57,
     "metadata": {},
     "output_type": "execute_result"
    }
   ],
   "source": [
    "salon2.max() # max qiymat"
   ]
  },
  {
   "cell_type": "code",
   "execution_count": 58,
   "id": "3f2accac-0207-4f5f-b4b5-ebe53a8c1003",
   "metadata": {},
   "outputs": [
    {
     "data": {
      "text/plain": [
       "models\n",
       "Honda      38000.0\n",
       "Mazda      52000.0\n",
       "Lacetti    20000.0\n",
       "Jaguar     20000.0\n",
       "Malibu     40000.0\n",
       "Toyota     45000.0\n",
       "Name: Avtosalon, dtype: float64"
      ]
     },
     "execution_count": 58,
     "metadata": {},
     "output_type": "execute_result"
    }
   ],
   "source": [
    "salon2"
   ]
  },
  {
   "cell_type": "code",
   "execution_count": 59,
   "id": "6ce1e200-282e-4b9c-963e-9e30edc1d642",
   "metadata": {},
   "outputs": [
    {
     "data": {
      "text/plain": [
       "20000.0"
      ]
     },
     "execution_count": 59,
     "metadata": {},
     "output_type": "execute_result"
    }
   ],
   "source": [
    "salon2.min() # min qiymat"
   ]
  },
  {
   "cell_type": "code",
   "execution_count": 60,
   "id": "0371fc88-99f3-435b-bd75-cefbf8911126",
   "metadata": {},
   "outputs": [
    {
     "data": {
      "text/plain": [
       "models\n",
       "Honda      38000.0\n",
       "Mazda      52000.0\n",
       "Lacetti    20000.0\n",
       "Jaguar     20000.0\n",
       "Malibu     40000.0\n",
       "Toyota     45000.0\n",
       "Name: Avtosalon, dtype: float64"
      ]
     },
     "execution_count": 60,
     "metadata": {},
     "output_type": "execute_result"
    }
   ],
   "source": [
    "salon2"
   ]
  },
  {
   "cell_type": "code",
   "execution_count": 61,
   "id": "3f2c8622-0dc3-4769-85a9-cfa78e8abd62",
   "metadata": {},
   "outputs": [
    {
     "data": {
      "text/plain": [
       "35833.333333333336"
      ]
     },
     "execution_count": 61,
     "metadata": {},
     "output_type": "execute_result"
    }
   ],
   "source": [
    "salon2.mean() # o'rtacha qiymat"
   ]
  },
  {
   "cell_type": "code",
   "execution_count": 62,
   "id": "1a6ca3d1-a20f-4a01-976e-db32589cfb18",
   "metadata": {},
   "outputs": [
    {
     "data": {
      "text/plain": [
       "models\n",
       "Honda      38000.0\n",
       "Mazda      52000.0\n",
       "Lacetti    20000.0\n",
       "Jaguar     20000.0\n",
       "Malibu     40000.0\n",
       "Toyota     45000.0\n",
       "Name: Avtosalon, dtype: float64"
      ]
     },
     "execution_count": 62,
     "metadata": {},
     "output_type": "execute_result"
    }
   ],
   "source": [
    "salon2"
   ]
  },
  {
   "cell_type": "code",
   "execution_count": 63,
   "id": "72e67e03-f449-4152-a7ee-7d139b3e8692",
   "metadata": {},
   "outputs": [],
   "source": [
    "marks = Series([1, 1.2, '1', 'a', True, np.nan, False])"
   ]
  },
  {
   "cell_type": "code",
   "execution_count": 65,
   "id": "b451ada9-f480-42d8-9ac6-711a23a960ad",
   "metadata": {},
   "outputs": [
    {
     "data": {
      "text/plain": [
       "0        1\n",
       "1      1.2\n",
       "2        1\n",
       "3        a\n",
       "4     True\n",
       "5      NaN\n",
       "6    False\n",
       "dtype: object"
      ]
     },
     "execution_count": 65,
     "metadata": {},
     "output_type": "execute_result"
    }
   ],
   "source": [
    "marks"
   ]
  },
  {
   "cell_type": "code",
   "execution_count": 69,
   "id": "374f9176-a90a-4782-b01e-8e001ec49387",
   "metadata": {},
   "outputs": [
    {
     "data": {
      "text/plain": [
       "array([1, 1.2, '1', 'a', True, nan, False], dtype=object)"
      ]
     },
     "execution_count": 69,
     "metadata": {},
     "output_type": "execute_result"
    }
   ],
   "source": [
    "marks.values"
   ]
  },
  {
   "cell_type": "code",
   "execution_count": 70,
   "id": "7cde789b-f20a-4134-b981-0e295b6b6867",
   "metadata": {},
   "outputs": [
    {
     "data": {
      "text/plain": [
       "dtype('O')"
      ]
     },
     "execution_count": 70,
     "metadata": {},
     "output_type": "execute_result"
    }
   ],
   "source": [
    "marks.values.dtype"
   ]
  },
  {
   "cell_type": "code",
   "execution_count": 74,
   "id": "f603db01-29b1-42e4-84e8-0990d0c978f8",
   "metadata": {},
   "outputs": [],
   "source": [
    "dict_fruits = {\"olma\":\"apple\", \"banan\":'banana', 'cherry':'gilos'}"
   ]
  },
  {
   "cell_type": "code",
   "execution_count": 72,
   "id": "8fb2d094-a3eb-4844-9009-557bcc7652df",
   "metadata": {},
   "outputs": [],
   "source": [
    "series1 = Series(dict_fruits)"
   ]
  },
  {
   "cell_type": "code",
   "execution_count": 73,
   "id": "688cbdb2-1d9a-451f-8a90-06a67ae7a059",
   "metadata": {},
   "outputs": [
    {
     "data": {
      "text/plain": [
       "olma       apple\n",
       "banan     banana\n",
       "Cherry     gilos\n",
       "dtype: object"
      ]
     },
     "execution_count": 73,
     "metadata": {},
     "output_type": "execute_result"
    }
   ],
   "source": [
    "series1"
   ]
  },
  {
   "cell_type": "code",
   "execution_count": 76,
   "id": "b4922ed8-28ca-4ed4-b807-d308a5e27dd8",
   "metadata": {},
   "outputs": [],
   "source": [
    "series1.name = 'fruits'"
   ]
  },
  {
   "cell_type": "code",
   "execution_count": 77,
   "id": "f4f69b3f-8281-412d-85f8-3880225cbc32",
   "metadata": {},
   "outputs": [],
   "source": [
    "series1.index.name = 'uz'"
   ]
  },
  {
   "cell_type": "code",
   "execution_count": 78,
   "id": "1534538b-eebe-4109-9703-a36f0cebbf67",
   "metadata": {},
   "outputs": [
    {
     "data": {
      "text/plain": [
       "uz\n",
       "olma       apple\n",
       "banan     banana\n",
       "Cherry     gilos\n",
       "Name: fruits, dtype: object"
      ]
     },
     "execution_count": 78,
     "metadata": {},
     "output_type": "execute_result"
    }
   ],
   "source": [
    "series1"
   ]
  },
  {
   "cell_type": "code",
   "execution_count": 82,
   "id": "950c9860-a45c-4e4d-ad93-c72e84f5e79f",
   "metadata": {},
   "outputs": [
    {
     "data": {
      "text/plain": [
       "array(['apple', 'banana', 'gilos'], dtype=object)"
      ]
     },
     "execution_count": 82,
     "metadata": {},
     "output_type": "execute_result"
    }
   ],
   "source": [
    "series1.values"
   ]
  },
  {
   "cell_type": "code",
   "execution_count": 83,
   "id": "388b2dd2-2b5f-4f66-8d05-bc6b3387e3af",
   "metadata": {},
   "outputs": [
    {
     "data": {
      "text/plain": [
       "Index(['olma', 'banan', 'Cherry'], dtype='object', name='uz')"
      ]
     },
     "execution_count": 83,
     "metadata": {},
     "output_type": "execute_result"
    }
   ],
   "source": [
    "series1.index"
   ]
  },
  {
   "cell_type": "code",
   "execution_count": null,
   "id": "af78ab70-f3b8-49ee-8b59-838a45df1f6e",
   "metadata": {},
   "outputs": [],
   "source": []
  }
 ],
 "metadata": {
  "kernelspec": {
   "display_name": "Python 3 (ipykernel)",
   "language": "python",
   "name": "python3"
  },
  "language_info": {
   "codemirror_mode": {
    "name": "ipython",
    "version": 3
   },
   "file_extension": ".py",
   "mimetype": "text/x-python",
   "name": "python",
   "nbconvert_exporter": "python",
   "pygments_lexer": "ipython3",
   "version": "3.9.7"
  }
 },
 "nbformat": 4,
 "nbformat_minor": 5
}
