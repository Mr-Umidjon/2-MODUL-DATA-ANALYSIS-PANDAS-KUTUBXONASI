{
 "cells": [
  {
   "cell_type": "code",
   "execution_count": 1,
   "id": "2ef6c8dc-2138-4544-be3e-7626ab516fa4",
   "metadata": {},
   "outputs": [],
   "source": [
    "import numpy as np\n",
    "import pandas as pd"
   ]
  },
  {
   "cell_type": "code",
   "execution_count": 2,
   "id": "b1e53cf0-1bc9-4258-af6b-2a9875bb0c9c",
   "metadata": {},
   "outputs": [],
   "source": [
    "data = {\n",
    "    'Uzbekistan':{2021:33.9, 2020:33.5, 2019:32.9, 2018:32.5, 2017:31.9},\n",
    "    'Kazakhstan':{2021:18.9, 2020:18.7, 2019:18.5, 2018:18.3, 2017:18.1, 2016:17.8}\n",
    "}"
   ]
  },
  {
   "cell_type": "code",
   "execution_count": 3,
   "id": "f404c042-47c7-405b-b3ec-9d6c4371dd78",
   "metadata": {},
   "outputs": [],
   "source": [
    "df2 = pd.DataFrame(data)"
   ]
  },
  {
   "cell_type": "code",
   "execution_count": 4,
   "id": "66d628a3-8550-4456-961d-6acc595b3a46",
   "metadata": {},
   "outputs": [
    {
     "data": {
      "text/html": [
       "<div>\n",
       "<style scoped>\n",
       "    .dataframe tbody tr th:only-of-type {\n",
       "        vertical-align: middle;\n",
       "    }\n",
       "\n",
       "    .dataframe tbody tr th {\n",
       "        vertical-align: top;\n",
       "    }\n",
       "\n",
       "    .dataframe thead th {\n",
       "        text-align: right;\n",
       "    }\n",
       "</style>\n",
       "<table border=\"1\" class=\"dataframe\">\n",
       "  <thead>\n",
       "    <tr style=\"text-align: right;\">\n",
       "      <th></th>\n",
       "      <th>Uzbekistan</th>\n",
       "      <th>Kazakhstan</th>\n",
       "    </tr>\n",
       "  </thead>\n",
       "  <tbody>\n",
       "    <tr>\n",
       "      <th>2021</th>\n",
       "      <td>33.9</td>\n",
       "      <td>18.9</td>\n",
       "    </tr>\n",
       "    <tr>\n",
       "      <th>2020</th>\n",
       "      <td>33.5</td>\n",
       "      <td>18.7</td>\n",
       "    </tr>\n",
       "    <tr>\n",
       "      <th>2019</th>\n",
       "      <td>32.9</td>\n",
       "      <td>18.5</td>\n",
       "    </tr>\n",
       "    <tr>\n",
       "      <th>2018</th>\n",
       "      <td>32.5</td>\n",
       "      <td>18.3</td>\n",
       "    </tr>\n",
       "    <tr>\n",
       "      <th>2017</th>\n",
       "      <td>31.9</td>\n",
       "      <td>18.1</td>\n",
       "    </tr>\n",
       "    <tr>\n",
       "      <th>2016</th>\n",
       "      <td>NaN</td>\n",
       "      <td>17.8</td>\n",
       "    </tr>\n",
       "  </tbody>\n",
       "</table>\n",
       "</div>"
      ],
      "text/plain": [
       "      Uzbekistan  Kazakhstan\n",
       "2021        33.9        18.9\n",
       "2020        33.5        18.7\n",
       "2019        32.9        18.5\n",
       "2018        32.5        18.3\n",
       "2017        31.9        18.1\n",
       "2016         NaN        17.8"
      ]
     },
     "execution_count": 4,
     "metadata": {},
     "output_type": "execute_result"
    }
   ],
   "source": [
    "df2"
   ]
  },
  {
   "cell_type": "code",
   "execution_count": 5,
   "id": "f925e463-17c8-4546-b69e-d0ae43a488ce",
   "metadata": {},
   "outputs": [],
   "source": [
    "df2.index.name = 'Yil'"
   ]
  },
  {
   "cell_type": "code",
   "execution_count": 6,
   "id": "7ed47947-19b4-4e73-a11c-dbf8f15ecbff",
   "metadata": {},
   "outputs": [
    {
     "data": {
      "text/html": [
       "<div>\n",
       "<style scoped>\n",
       "    .dataframe tbody tr th:only-of-type {\n",
       "        vertical-align: middle;\n",
       "    }\n",
       "\n",
       "    .dataframe tbody tr th {\n",
       "        vertical-align: top;\n",
       "    }\n",
       "\n",
       "    .dataframe thead th {\n",
       "        text-align: right;\n",
       "    }\n",
       "</style>\n",
       "<table border=\"1\" class=\"dataframe\">\n",
       "  <thead>\n",
       "    <tr style=\"text-align: right;\">\n",
       "      <th></th>\n",
       "      <th>Uzbekistan</th>\n",
       "      <th>Kazakhstan</th>\n",
       "    </tr>\n",
       "    <tr>\n",
       "      <th>Yil</th>\n",
       "      <th></th>\n",
       "      <th></th>\n",
       "    </tr>\n",
       "  </thead>\n",
       "  <tbody>\n",
       "    <tr>\n",
       "      <th>2021</th>\n",
       "      <td>33.9</td>\n",
       "      <td>18.9</td>\n",
       "    </tr>\n",
       "    <tr>\n",
       "      <th>2020</th>\n",
       "      <td>33.5</td>\n",
       "      <td>18.7</td>\n",
       "    </tr>\n",
       "    <tr>\n",
       "      <th>2019</th>\n",
       "      <td>32.9</td>\n",
       "      <td>18.5</td>\n",
       "    </tr>\n",
       "    <tr>\n",
       "      <th>2018</th>\n",
       "      <td>32.5</td>\n",
       "      <td>18.3</td>\n",
       "    </tr>\n",
       "    <tr>\n",
       "      <th>2017</th>\n",
       "      <td>31.9</td>\n",
       "      <td>18.1</td>\n",
       "    </tr>\n",
       "    <tr>\n",
       "      <th>2016</th>\n",
       "      <td>NaN</td>\n",
       "      <td>17.8</td>\n",
       "    </tr>\n",
       "  </tbody>\n",
       "</table>\n",
       "</div>"
      ],
      "text/plain": [
       "      Uzbekistan  Kazakhstan\n",
       "Yil                         \n",
       "2021        33.9        18.9\n",
       "2020        33.5        18.7\n",
       "2019        32.9        18.5\n",
       "2018        32.5        18.3\n",
       "2017        31.9        18.1\n",
       "2016         NaN        17.8"
      ]
     },
     "execution_count": 6,
     "metadata": {},
     "output_type": "execute_result"
    }
   ],
   "source": [
    "df2"
   ]
  },
  {
   "cell_type": "code",
   "execution_count": 7,
   "id": "7bc4d85d-b6e5-4ab5-897b-80ab11e54fe7",
   "metadata": {},
   "outputs": [],
   "source": [
    "df2 = pd.DataFrame(data, index=[2021, 2019, 2017])"
   ]
  },
  {
   "cell_type": "code",
   "execution_count": 8,
   "id": "70f8d6fc-587a-4208-a42e-bc4f2fc4125b",
   "metadata": {},
   "outputs": [
    {
     "data": {
      "text/html": [
       "<div>\n",
       "<style scoped>\n",
       "    .dataframe tbody tr th:only-of-type {\n",
       "        vertical-align: middle;\n",
       "    }\n",
       "\n",
       "    .dataframe tbody tr th {\n",
       "        vertical-align: top;\n",
       "    }\n",
       "\n",
       "    .dataframe thead th {\n",
       "        text-align: right;\n",
       "    }\n",
       "</style>\n",
       "<table border=\"1\" class=\"dataframe\">\n",
       "  <thead>\n",
       "    <tr style=\"text-align: right;\">\n",
       "      <th></th>\n",
       "      <th>Uzbekistan</th>\n",
       "      <th>Kazakhstan</th>\n",
       "    </tr>\n",
       "  </thead>\n",
       "  <tbody>\n",
       "    <tr>\n",
       "      <th>2021</th>\n",
       "      <td>33.9</td>\n",
       "      <td>18.9</td>\n",
       "    </tr>\n",
       "    <tr>\n",
       "      <th>2019</th>\n",
       "      <td>32.9</td>\n",
       "      <td>18.5</td>\n",
       "    </tr>\n",
       "    <tr>\n",
       "      <th>2017</th>\n",
       "      <td>31.9</td>\n",
       "      <td>18.1</td>\n",
       "    </tr>\n",
       "  </tbody>\n",
       "</table>\n",
       "</div>"
      ],
      "text/plain": [
       "      Uzbekistan  Kazakhstan\n",
       "2021        33.9        18.9\n",
       "2019        32.9        18.5\n",
       "2017        31.9        18.1"
      ]
     },
     "execution_count": 8,
     "metadata": {},
     "output_type": "execute_result"
    }
   ],
   "source": [
    "df2"
   ]
  },
  {
   "cell_type": "code",
   "execution_count": 9,
   "id": "b958ee77-2a51-4f47-abbe-66e171b0e32b",
   "metadata": {},
   "outputs": [
    {
     "data": {
      "text/html": [
       "<div>\n",
       "<style scoped>\n",
       "    .dataframe tbody tr th:only-of-type {\n",
       "        vertical-align: middle;\n",
       "    }\n",
       "\n",
       "    .dataframe tbody tr th {\n",
       "        vertical-align: top;\n",
       "    }\n",
       "\n",
       "    .dataframe thead th {\n",
       "        text-align: right;\n",
       "    }\n",
       "</style>\n",
       "<table border=\"1\" class=\"dataframe\">\n",
       "  <thead>\n",
       "    <tr style=\"text-align: right;\">\n",
       "      <th></th>\n",
       "      <th>2021</th>\n",
       "      <th>2019</th>\n",
       "      <th>2017</th>\n",
       "    </tr>\n",
       "  </thead>\n",
       "  <tbody>\n",
       "    <tr>\n",
       "      <th>Uzbekistan</th>\n",
       "      <td>33.9</td>\n",
       "      <td>32.9</td>\n",
       "      <td>31.9</td>\n",
       "    </tr>\n",
       "    <tr>\n",
       "      <th>Kazakhstan</th>\n",
       "      <td>18.9</td>\n",
       "      <td>18.5</td>\n",
       "      <td>18.1</td>\n",
       "    </tr>\n",
       "  </tbody>\n",
       "</table>\n",
       "</div>"
      ],
      "text/plain": [
       "            2021  2019  2017\n",
       "Uzbekistan  33.9  32.9  31.9\n",
       "Kazakhstan  18.9  18.5  18.1"
      ]
     },
     "execution_count": 9,
     "metadata": {},
     "output_type": "execute_result"
    }
   ],
   "source": [
    "df2.T"
   ]
  },
  {
   "cell_type": "code",
   "execution_count": 10,
   "id": "8e7efdab-42ad-49a5-9e4e-f72adf436fe5",
   "metadata": {},
   "outputs": [
    {
     "data": {
      "text/plain": [
       "array([[33.9, 18.9],\n",
       "       [32.9, 18.5],\n",
       "       [31.9, 18.1]])"
      ]
     },
     "execution_count": 10,
     "metadata": {},
     "output_type": "execute_result"
    }
   ],
   "source": [
    "df2.values"
   ]
  },
  {
   "cell_type": "code",
   "execution_count": 11,
   "id": "6dd595b9-2175-4c27-a7fe-e75ad6ee3b78",
   "metadata": {},
   "outputs": [
    {
     "data": {
      "text/html": [
       "<div>\n",
       "<style scoped>\n",
       "    .dataframe tbody tr th:only-of-type {\n",
       "        vertical-align: middle;\n",
       "    }\n",
       "\n",
       "    .dataframe tbody tr th {\n",
       "        vertical-align: top;\n",
       "    }\n",
       "\n",
       "    .dataframe thead th {\n",
       "        text-align: right;\n",
       "    }\n",
       "</style>\n",
       "<table border=\"1\" class=\"dataframe\">\n",
       "  <thead>\n",
       "    <tr style=\"text-align: right;\">\n",
       "      <th></th>\n",
       "      <th>Uzbekistan</th>\n",
       "      <th>Kazakhstan</th>\n",
       "    </tr>\n",
       "  </thead>\n",
       "  <tbody>\n",
       "    <tr>\n",
       "      <th>2021</th>\n",
       "      <td>33.9</td>\n",
       "      <td>18.9</td>\n",
       "    </tr>\n",
       "    <tr>\n",
       "      <th>2019</th>\n",
       "      <td>32.9</td>\n",
       "      <td>18.5</td>\n",
       "    </tr>\n",
       "    <tr>\n",
       "      <th>2017</th>\n",
       "      <td>31.9</td>\n",
       "      <td>18.1</td>\n",
       "    </tr>\n",
       "  </tbody>\n",
       "</table>\n",
       "</div>"
      ],
      "text/plain": [
       "      Uzbekistan  Kazakhstan\n",
       "2021        33.9        18.9\n",
       "2019        32.9        18.5\n",
       "2017        31.9        18.1"
      ]
     },
     "execution_count": 11,
     "metadata": {},
     "output_type": "execute_result"
    }
   ],
   "source": [
    "df2"
   ]
  },
  {
   "cell_type": "code",
   "execution_count": 12,
   "id": "acd3ee4e-cab4-4b49-a7c7-3d101848d149",
   "metadata": {},
   "outputs": [],
   "source": [
    "indeks = df2.index"
   ]
  },
  {
   "cell_type": "code",
   "execution_count": 13,
   "id": "4ae5dc0b-7880-4cb5-83f8-66583ef7e641",
   "metadata": {},
   "outputs": [
    {
     "data": {
      "text/plain": [
       "Int64Index([2021, 2019, 2017], dtype='int64')"
      ]
     },
     "execution_count": 13,
     "metadata": {},
     "output_type": "execute_result"
    }
   ],
   "source": [
    "indeks"
   ]
  },
  {
   "cell_type": "code",
   "execution_count": 14,
   "id": "40a2a3d2-66b2-41dd-beb1-a49951af5df7",
   "metadata": {},
   "outputs": [
    {
     "data": {
      "text/plain": [
       "2021"
      ]
     },
     "execution_count": 14,
     "metadata": {},
     "output_type": "execute_result"
    }
   ],
   "source": [
    "indeks[0]"
   ]
  },
  {
   "cell_type": "code",
   "execution_count": 15,
   "id": "ec0408e8-9409-4a93-a2ee-5e1e2aa3fd6c",
   "metadata": {},
   "outputs": [
    {
     "data": {
      "text/plain": [
       "2017"
      ]
     },
     "execution_count": 15,
     "metadata": {},
     "output_type": "execute_result"
    }
   ],
   "source": [
    "indeks[-1]"
   ]
  },
  {
   "cell_type": "code",
   "execution_count": 16,
   "id": "0b896580-bbbb-4a77-b3d1-2924966d25e2",
   "metadata": {},
   "outputs": [
    {
     "data": {
      "text/plain": [
       "Int64Index([2019, 2017], dtype='int64')"
      ]
     },
     "execution_count": 16,
     "metadata": {},
     "output_type": "execute_result"
    }
   ],
   "source": [
    "indeks[1:]"
   ]
  },
  {
   "cell_type": "code",
   "execution_count": 17,
   "id": "879c2d3e-03ce-435f-a7c7-ef3e2c2a39d2",
   "metadata": {},
   "outputs": [
    {
     "data": {
      "text/plain": [
       "Int64Index([2021, 2019, 2017], dtype='int64')"
      ]
     },
     "execution_count": 17,
     "metadata": {},
     "output_type": "execute_result"
    }
   ],
   "source": [
    "indeks"
   ]
  },
  {
   "cell_type": "code",
   "execution_count": 20,
   "id": "d32a4748-cb32-4ed5-b0c6-1ebf673d48cd",
   "metadata": {},
   "outputs": [],
   "source": [
    "data1 = {\n",
    "    'Uzbekistan':{2021:33.9, 2020:33.5, 2019:32.9, 2018:32.5, 2017:31.9},\n",
    "    'Kazakhstan':{2021:18.9, 2020:18.7, 2019:18.5, 2018:18.3, 2017:18.1, 2016:17.8}\n",
    "}\n",
    "df = pd.DataFrame(data)"
   ]
  },
  {
   "cell_type": "code",
   "execution_count": 21,
   "id": "8542cf0f-55cd-4967-8a35-23f2f204a1ec",
   "metadata": {},
   "outputs": [
    {
     "data": {
      "text/html": [
       "<div>\n",
       "<style scoped>\n",
       "    .dataframe tbody tr th:only-of-type {\n",
       "        vertical-align: middle;\n",
       "    }\n",
       "\n",
       "    .dataframe tbody tr th {\n",
       "        vertical-align: top;\n",
       "    }\n",
       "\n",
       "    .dataframe thead th {\n",
       "        text-align: right;\n",
       "    }\n",
       "</style>\n",
       "<table border=\"1\" class=\"dataframe\">\n",
       "  <thead>\n",
       "    <tr style=\"text-align: right;\">\n",
       "      <th></th>\n",
       "      <th>Uzbekistan</th>\n",
       "      <th>Kazakhstan</th>\n",
       "    </tr>\n",
       "  </thead>\n",
       "  <tbody>\n",
       "    <tr>\n",
       "      <th>2021</th>\n",
       "      <td>33.9</td>\n",
       "      <td>18.9</td>\n",
       "    </tr>\n",
       "    <tr>\n",
       "      <th>2020</th>\n",
       "      <td>33.5</td>\n",
       "      <td>18.7</td>\n",
       "    </tr>\n",
       "    <tr>\n",
       "      <th>2019</th>\n",
       "      <td>32.9</td>\n",
       "      <td>18.5</td>\n",
       "    </tr>\n",
       "    <tr>\n",
       "      <th>2018</th>\n",
       "      <td>32.5</td>\n",
       "      <td>18.3</td>\n",
       "    </tr>\n",
       "    <tr>\n",
       "      <th>2017</th>\n",
       "      <td>31.9</td>\n",
       "      <td>18.1</td>\n",
       "    </tr>\n",
       "    <tr>\n",
       "      <th>2016</th>\n",
       "      <td>NaN</td>\n",
       "      <td>17.8</td>\n",
       "    </tr>\n",
       "  </tbody>\n",
       "</table>\n",
       "</div>"
      ],
      "text/plain": [
       "      Uzbekistan  Kazakhstan\n",
       "2021        33.9        18.9\n",
       "2020        33.5        18.7\n",
       "2019        32.9        18.5\n",
       "2018        32.5        18.3\n",
       "2017        31.9        18.1\n",
       "2016         NaN        17.8"
      ]
     },
     "execution_count": 21,
     "metadata": {},
     "output_type": "execute_result"
    }
   ],
   "source": [
    "df"
   ]
  },
  {
   "cell_type": "code",
   "execution_count": 22,
   "id": "128eb384-d685-4b79-9913-638395a77c2b",
   "metadata": {},
   "outputs": [
    {
     "data": {
      "text/plain": [
       "Index(['Uzbekistan', 'Kazakhstan'], dtype='object')"
      ]
     },
     "execution_count": 22,
     "metadata": {},
     "output_type": "execute_result"
    }
   ],
   "source": [
    "df.columns"
   ]
  },
  {
   "cell_type": "code",
   "execution_count": 23,
   "id": "4fdf635c-eef3-4ecb-8de3-57971e6be898",
   "metadata": {},
   "outputs": [
    {
     "data": {
      "text/plain": [
       "Int64Index([2021, 2020, 2019, 2018, 2017, 2016], dtype='int64')"
      ]
     },
     "execution_count": 23,
     "metadata": {},
     "output_type": "execute_result"
    }
   ],
   "source": [
    "df.index"
   ]
  },
  {
   "cell_type": "code",
   "execution_count": 24,
   "id": "e5125f4b-5508-40a9-902c-f00507138fc9",
   "metadata": {},
   "outputs": [
    {
     "data": {
      "text/plain": [
       "False"
      ]
     },
     "execution_count": 24,
     "metadata": {},
     "output_type": "execute_result"
    }
   ],
   "source": [
    "\"Tajikistan\" in df.columns"
   ]
  },
  {
   "cell_type": "code",
   "execution_count": 25,
   "id": "3da7e626-a39b-44d7-b448-c88e2d9ba093",
   "metadata": {},
   "outputs": [
    {
     "data": {
      "text/plain": [
       "True"
      ]
     },
     "execution_count": 25,
     "metadata": {},
     "output_type": "execute_result"
    }
   ],
   "source": [
    "\"Uzbekistan\" in df.columns"
   ]
  },
  {
   "cell_type": "code",
   "execution_count": 26,
   "id": "e6f265eb-e70a-4eff-a4a9-2b0697081217",
   "metadata": {},
   "outputs": [
    {
     "data": {
      "text/plain": [
       "True"
      ]
     },
     "execution_count": 26,
     "metadata": {},
     "output_type": "execute_result"
    }
   ],
   "source": [
    "2020 in df.index"
   ]
  },
  {
   "cell_type": "code",
   "execution_count": 27,
   "id": "8e235b00-1a88-47af-879b-0716539940cd",
   "metadata": {},
   "outputs": [
    {
     "data": {
      "text/plain": [
       "False"
      ]
     },
     "execution_count": 27,
     "metadata": {},
     "output_type": "execute_result"
    }
   ],
   "source": [
    "2000 in df.index"
   ]
  },
  {
   "cell_type": "code",
   "execution_count": 29,
   "id": "ad428e8e-5dec-4868-b297-cd45650bd141",
   "metadata": {},
   "outputs": [],
   "source": [
    "indeks = df.index"
   ]
  },
  {
   "cell_type": "code",
   "execution_count": 30,
   "id": "55d04cf5-4c5f-4983-88d4-273b2f0e340b",
   "metadata": {},
   "outputs": [
    {
     "data": {
      "text/plain": [
       "Int64Index([2021, 2020, 2019, 2018, 2017, 2016], dtype='int64')"
      ]
     },
     "execution_count": 30,
     "metadata": {},
     "output_type": "execute_result"
    }
   ],
   "source": [
    "indeks"
   ]
  },
  {
   "cell_type": "code",
   "execution_count": 31,
   "id": "c7068f83-2f60-42c3-9a31-857fc255a160",
   "metadata": {},
   "outputs": [],
   "source": [
    "usernames = {\"anvar\":\"anvarbek223\", \"olim\":\"olimtoy\", \"maryam\":\"mary334455\",\"javohir\":\"javohir445\"}\n",
    "emails = {\"anvar\":\"anvar@gmail.com\", \"olim\":\"olim@mail.ru\", \"maryam\":\"mary33@gmail.com\",\"javohir\":\"javohir445@gmail.com\"}\n",
    "\n",
    "data = {\n",
    "    'username':usernames,\n",
    "    'email':emails\n",
    "}\n",
    "df = pd.DataFrame(data)"
   ]
  },
  {
   "cell_type": "code",
   "execution_count": 32,
   "id": "70713878-8e45-4b42-bf36-52c21312bfb1",
   "metadata": {},
   "outputs": [
    {
     "data": {
      "text/html": [
       "<div>\n",
       "<style scoped>\n",
       "    .dataframe tbody tr th:only-of-type {\n",
       "        vertical-align: middle;\n",
       "    }\n",
       "\n",
       "    .dataframe tbody tr th {\n",
       "        vertical-align: top;\n",
       "    }\n",
       "\n",
       "    .dataframe thead th {\n",
       "        text-align: right;\n",
       "    }\n",
       "</style>\n",
       "<table border=\"1\" class=\"dataframe\">\n",
       "  <thead>\n",
       "    <tr style=\"text-align: right;\">\n",
       "      <th></th>\n",
       "      <th>username</th>\n",
       "      <th>email</th>\n",
       "    </tr>\n",
       "  </thead>\n",
       "  <tbody>\n",
       "    <tr>\n",
       "      <th>anvar</th>\n",
       "      <td>anvarbek223</td>\n",
       "      <td>anvar@gmail.com</td>\n",
       "    </tr>\n",
       "    <tr>\n",
       "      <th>olim</th>\n",
       "      <td>olimtoy</td>\n",
       "      <td>olim@mail.ru</td>\n",
       "    </tr>\n",
       "    <tr>\n",
       "      <th>maryam</th>\n",
       "      <td>mary334455</td>\n",
       "      <td>mary33@gmail.com</td>\n",
       "    </tr>\n",
       "    <tr>\n",
       "      <th>javohir</th>\n",
       "      <td>javohir445</td>\n",
       "      <td>javohir445@gmail.com</td>\n",
       "    </tr>\n",
       "  </tbody>\n",
       "</table>\n",
       "</div>"
      ],
      "text/plain": [
       "            username                 email\n",
       "anvar    anvarbek223       anvar@gmail.com\n",
       "olim         olimtoy          olim@mail.ru\n",
       "maryam    mary334455      mary33@gmail.com\n",
       "javohir   javohir445  javohir445@gmail.com"
      ]
     },
     "execution_count": 32,
     "metadata": {},
     "output_type": "execute_result"
    }
   ],
   "source": [
    "df"
   ]
  },
  {
   "cell_type": "code",
   "execution_count": 33,
   "id": "1e57ccf2-9d40-42b8-b500-f5136e44bd95",
   "metadata": {},
   "outputs": [],
   "source": [
    "data2 = {\n",
    "    'username':{\"olim\":\"olimjon21\", \"maryam\":\"maryam2020\"},\n",
    "    'email':{\"olim\":\"olimjon21@mail.ru\", \"maryam\":\"maryam20@gmail.com\"}\n",
    "}"
   ]
  },
  {
   "cell_type": "code",
   "execution_count": 36,
   "id": "a2d64e0a-a8de-425f-b7e7-c25e8c5053a7",
   "metadata": {},
   "outputs": [
    {
     "name": "stderr",
     "output_type": "stream",
     "text": [
      "C:\\Users\\mrumi\\AppData\\Local\\Temp\\ipykernel_11108\\289703299.py:1: FutureWarning: The frame.append method is deprecated and will be removed from pandas in a future version. Use pandas.concat instead.\n",
      "  df2 = df.append(pd.DataFrame(data2))\n"
     ]
    }
   ],
   "source": [
    "df2 = df.append(pd.DataFrame(data2))"
   ]
  },
  {
   "cell_type": "code",
   "execution_count": 37,
   "id": "a48e1c16-02d2-4704-88e4-cc7725f21b59",
   "metadata": {},
   "outputs": [
    {
     "data": {
      "text/html": [
       "<div>\n",
       "<style scoped>\n",
       "    .dataframe tbody tr th:only-of-type {\n",
       "        vertical-align: middle;\n",
       "    }\n",
       "\n",
       "    .dataframe tbody tr th {\n",
       "        vertical-align: top;\n",
       "    }\n",
       "\n",
       "    .dataframe thead th {\n",
       "        text-align: right;\n",
       "    }\n",
       "</style>\n",
       "<table border=\"1\" class=\"dataframe\">\n",
       "  <thead>\n",
       "    <tr style=\"text-align: right;\">\n",
       "      <th></th>\n",
       "      <th>username</th>\n",
       "      <th>email</th>\n",
       "    </tr>\n",
       "  </thead>\n",
       "  <tbody>\n",
       "    <tr>\n",
       "      <th>anvar</th>\n",
       "      <td>anvarbek223</td>\n",
       "      <td>anvar@gmail.com</td>\n",
       "    </tr>\n",
       "    <tr>\n",
       "      <th>olim</th>\n",
       "      <td>olimtoy</td>\n",
       "      <td>olim@mail.ru</td>\n",
       "    </tr>\n",
       "    <tr>\n",
       "      <th>maryam</th>\n",
       "      <td>mary334455</td>\n",
       "      <td>mary33@gmail.com</td>\n",
       "    </tr>\n",
       "    <tr>\n",
       "      <th>javohir</th>\n",
       "      <td>javohir445</td>\n",
       "      <td>javohir445@gmail.com</td>\n",
       "    </tr>\n",
       "    <tr>\n",
       "      <th>olim</th>\n",
       "      <td>olimjon21</td>\n",
       "      <td>olimjon21@mail.ru</td>\n",
       "    </tr>\n",
       "    <tr>\n",
       "      <th>maryam</th>\n",
       "      <td>maryam2020</td>\n",
       "      <td>maryam20@gmail.com</td>\n",
       "    </tr>\n",
       "  </tbody>\n",
       "</table>\n",
       "</div>"
      ],
      "text/plain": [
       "            username                 email\n",
       "anvar    anvarbek223       anvar@gmail.com\n",
       "olim         olimtoy          olim@mail.ru\n",
       "maryam    mary334455      mary33@gmail.com\n",
       "javohir   javohir445  javohir445@gmail.com\n",
       "olim       olimjon21     olimjon21@mail.ru\n",
       "maryam    maryam2020    maryam20@gmail.com"
      ]
     },
     "execution_count": 37,
     "metadata": {},
     "output_type": "execute_result"
    }
   ],
   "source": [
    "df2"
   ]
  },
  {
   "cell_type": "code",
   "execution_count": 38,
   "id": "a89793d9-ab4d-4c38-9840-8aae0c487888",
   "metadata": {},
   "outputs": [
    {
     "data": {
      "text/plain": [
       "Index(['anvar', 'olim', 'maryam', 'javohir', 'olim', 'maryam'], dtype='object')"
      ]
     },
     "execution_count": 38,
     "metadata": {},
     "output_type": "execute_result"
    }
   ],
   "source": [
    "df2.index"
   ]
  },
  {
   "cell_type": "code",
   "execution_count": 39,
   "id": "c5ef2095-cb9f-4f08-9d77-2938a9b78f9a",
   "metadata": {},
   "outputs": [],
   "source": [
    "newind = pd.Index(['olim', 'nafisa', 'hamida']) # yandi index yaratamiz"
   ]
  },
  {
   "cell_type": "code",
   "execution_count": 40,
   "id": "667ccb59-48fa-4821-9d67-319116e2de28",
   "metadata": {},
   "outputs": [
    {
     "data": {
      "text/plain": [
       "Index(['olim', 'nafisa', 'hamida'], dtype='object')"
      ]
     },
     "execution_count": 40,
     "metadata": {},
     "output_type": "execute_result"
    }
   ],
   "source": [
    "newind"
   ]
  },
  {
   "cell_type": "code",
   "execution_count": 45,
   "id": "a4b35cbc-8cb7-4322-88d0-13d9a89165c9",
   "metadata": {},
   "outputs": [
    {
     "data": {
      "text/plain": [
       "array([ True, False, False])"
      ]
     },
     "execution_count": 45,
     "metadata": {},
     "output_type": "execute_result"
    }
   ],
   "source": [
    "newind.isin(df2.index) # newind df2.index tarkibida borligni tekshirish"
   ]
  },
  {
   "cell_type": "code",
   "execution_count": 48,
   "id": "f7d11717-6ece-4198-be50-d10a917f6533",
   "metadata": {},
   "outputs": [
    {
     "data": {
      "text/plain": [
       "Index(['anvar', 'javohir', 'maryam'], dtype='object')"
      ]
     },
     "execution_count": 48,
     "metadata": {},
     "output_type": "execute_result"
    }
   ],
   "source": [
    "df2.index.difference(newind)\n",
    "# df2.index"
   ]
  },
  {
   "cell_type": "code",
   "execution_count": 49,
   "id": "bce4ea31-0f6d-40d0-af43-a3325be8f299",
   "metadata": {},
   "outputs": [
    {
     "data": {
      "text/plain": [
       "Index(['hamida', 'nafisa'], dtype='object')"
      ]
     },
     "execution_count": 49,
     "metadata": {},
     "output_type": "execute_result"
    }
   ],
   "source": [
    "newind.difference(df2.index)"
   ]
  },
  {
   "cell_type": "code",
   "execution_count": 53,
   "id": "5e012849-8d42-432b-bf9b-482b7a575315",
   "metadata": {},
   "outputs": [
    {
     "data": {
      "text/plain": [
       "Index(['anvar', 'hamida', 'javohir', 'maryam', 'maryam', 'nafisa', 'olim',\n",
       "       'olim'],\n",
       "      dtype='object')"
      ]
     },
     "execution_count": 53,
     "metadata": {},
     "output_type": "execute_result"
    }
   ],
   "source": [
    "df2.index.union(newind)"
   ]
  },
  {
   "cell_type": "code",
   "execution_count": 69,
   "id": "76311e70-b7cd-4a75-b657-188a6c7f02e8",
   "metadata": {},
   "outputs": [
    {
     "data": {
      "text/plain": [
       "Index(['olim', 'maryam', 'javohir', 'olim', 'maryam'], dtype='object')"
      ]
     },
     "execution_count": 69,
     "metadata": {},
     "output_type": "execute_result"
    }
   ],
   "source": [
    "df2.index.delete(0)"
   ]
  },
  {
   "cell_type": "code",
   "execution_count": 70,
   "id": "7936a645-a27e-4846-a0ce-61688bd9d16d",
   "metadata": {},
   "outputs": [
    {
     "data": {
      "text/html": [
       "<div>\n",
       "<style scoped>\n",
       "    .dataframe tbody tr th:only-of-type {\n",
       "        vertical-align: middle;\n",
       "    }\n",
       "\n",
       "    .dataframe tbody tr th {\n",
       "        vertical-align: top;\n",
       "    }\n",
       "\n",
       "    .dataframe thead th {\n",
       "        text-align: right;\n",
       "    }\n",
       "</style>\n",
       "<table border=\"1\" class=\"dataframe\">\n",
       "  <thead>\n",
       "    <tr style=\"text-align: right;\">\n",
       "      <th></th>\n",
       "      <th>username</th>\n",
       "      <th>email</th>\n",
       "    </tr>\n",
       "  </thead>\n",
       "  <tbody>\n",
       "    <tr>\n",
       "      <th>anvar</th>\n",
       "      <td>anvarbek223</td>\n",
       "      <td>anvar@gmail.com</td>\n",
       "    </tr>\n",
       "    <tr>\n",
       "      <th>olim</th>\n",
       "      <td>olimtoy</td>\n",
       "      <td>olim@mail.ru</td>\n",
       "    </tr>\n",
       "    <tr>\n",
       "      <th>maryam</th>\n",
       "      <td>mary334455</td>\n",
       "      <td>mary33@gmail.com</td>\n",
       "    </tr>\n",
       "    <tr>\n",
       "      <th>javohir</th>\n",
       "      <td>javohir445</td>\n",
       "      <td>javohir445@gmail.com</td>\n",
       "    </tr>\n",
       "    <tr>\n",
       "      <th>olim</th>\n",
       "      <td>olimjon21</td>\n",
       "      <td>olimjon21@mail.ru</td>\n",
       "    </tr>\n",
       "    <tr>\n",
       "      <th>maryam</th>\n",
       "      <td>maryam2020</td>\n",
       "      <td>maryam20@gmail.com</td>\n",
       "    </tr>\n",
       "  </tbody>\n",
       "</table>\n",
       "</div>"
      ],
      "text/plain": [
       "            username                 email\n",
       "anvar    anvarbek223       anvar@gmail.com\n",
       "olim         olimtoy          olim@mail.ru\n",
       "maryam    mary334455      mary33@gmail.com\n",
       "javohir   javohir445  javohir445@gmail.com\n",
       "olim       olimjon21     olimjon21@mail.ru\n",
       "maryam    maryam2020    maryam20@gmail.com"
      ]
     },
     "execution_count": 70,
     "metadata": {},
     "output_type": "execute_result"
    }
   ],
   "source": [
    "df2"
   ]
  },
  {
   "cell_type": "code",
   "execution_count": 76,
   "id": "b2c3f246-1a2c-43e4-a840-9b4314d9e4ff",
   "metadata": {},
   "outputs": [
    {
     "data": {
      "text/plain": [
       "Index(['anvar', 'maryam', 'javohir', 'maryam'], dtype='object')"
      ]
     },
     "execution_count": 76,
     "metadata": {},
     "output_type": "execute_result"
    }
   ],
   "source": [
    "df2.index.drop('olim')"
   ]
  },
  {
   "cell_type": "code",
   "execution_count": 77,
   "id": "87ee82b2-4db2-4674-8cd3-701a7f9234d5",
   "metadata": {},
   "outputs": [
    {
     "data": {
      "text/plain": [
       "Index(['anvar', 'olim', 'maryam', 'javohir', 'olim', 'maryam'], dtype='object')"
      ]
     },
     "execution_count": 77,
     "metadata": {},
     "output_type": "execute_result"
    }
   ],
   "source": [
    "df2.index"
   ]
  },
  {
   "cell_type": "code",
   "execution_count": 79,
   "id": "c05301fa-fee8-4aae-af01-a87f196660e8",
   "metadata": {},
   "outputs": [
    {
     "data": {
      "text/plain": [
       "Index(['anvar', 'olim', 'maryam', 'javohir', 'olim', 'maryam', 'umidjon'], dtype='object')"
      ]
     },
     "execution_count": 79,
     "metadata": {},
     "output_type": "execute_result"
    }
   ],
   "source": [
    "df2.index.insert(5, 'masha')\n",
    "df2.index.insert(6, 'umidjon')"
   ]
  },
  {
   "cell_type": "code",
   "execution_count": 80,
   "id": "db237a3f-fee9-44c9-8989-3a3aeaeaeb07",
   "metadata": {},
   "outputs": [
    {
     "data": {
      "text/plain": [
       "False"
      ]
     },
     "execution_count": 80,
     "metadata": {},
     "output_type": "execute_result"
    }
   ],
   "source": [
    "df2.index.is_monotonic"
   ]
  },
  {
   "cell_type": "code",
   "execution_count": 81,
   "id": "c133251e-b462-4546-95c5-f668b728cbba",
   "metadata": {},
   "outputs": [
    {
     "data": {
      "text/plain": [
       "False"
      ]
     },
     "execution_count": 81,
     "metadata": {},
     "output_type": "execute_result"
    }
   ],
   "source": [
    "df2.index.is_unique"
   ]
  },
  {
   "cell_type": "code",
   "execution_count": 90,
   "id": "057974d7-3189-4385-a98a-1d09ec998f78",
   "metadata": {},
   "outputs": [
    {
     "data": {
      "text/plain": [
       "True"
      ]
     },
     "execution_count": 90,
     "metadata": {},
     "output_type": "execute_result"
    }
   ],
   "source": [
    "i = pd.Index([1, 3, 5, 7, 8])\n",
    "i.is_monotonic"
   ]
  },
  {
   "cell_type": "code",
   "execution_count": 91,
   "id": "03775c36-6b40-40ec-aa29-3d99fe4eebb8",
   "metadata": {},
   "outputs": [
    {
     "data": {
      "text/plain": [
       "True"
      ]
     },
     "execution_count": 91,
     "metadata": {},
     "output_type": "execute_result"
    }
   ],
   "source": [
    "i.is_unique"
   ]
  },
  {
   "cell_type": "code",
   "execution_count": 92,
   "id": "8a264c4b-8e96-4db6-b8ad-cc8302868802",
   "metadata": {},
   "outputs": [
    {
     "data": {
      "text/plain": [
       "Index(['olim', 'nafisa', 'hamida'], dtype='object')"
      ]
     },
     "execution_count": 92,
     "metadata": {},
     "output_type": "execute_result"
    }
   ],
   "source": [
    "newind"
   ]
  },
  {
   "cell_type": "code",
   "execution_count": 94,
   "id": "1d9923ea-b898-41ab-8949-d06607c33c8a",
   "metadata": {},
   "outputs": [
    {
     "data": {
      "text/plain": [
       "True"
      ]
     },
     "execution_count": 94,
     "metadata": {},
     "output_type": "execute_result"
    }
   ],
   "source": [
    "newind.is_unique"
   ]
  },
  {
   "cell_type": "code",
   "execution_count": 99,
   "id": "68b02e97-42cc-4088-b0ab-12e4ceb402ef",
   "metadata": {},
   "outputs": [
    {
     "data": {
      "text/plain": [
       "Index(['anvar', 'olim', 'maryam', 'javohir'], dtype='object')"
      ]
     },
     "execution_count": 99,
     "metadata": {},
     "output_type": "execute_result"
    }
   ],
   "source": [
    "df2.index.unique() # noyob (takrorlanmas) elementlar"
   ]
  },
  {
   "cell_type": "code",
   "execution_count": 100,
   "id": "04a277c9-24b0-4fab-9ccc-3556d839fa98",
   "metadata": {},
   "outputs": [
    {
     "data": {
      "text/plain": [
       "Index(['anvar', 'olim', 'maryam', 'javohir', 'olim', 'maryam'], dtype='object')"
      ]
     },
     "execution_count": 100,
     "metadata": {},
     "output_type": "execute_result"
    }
   ],
   "source": [
    "df2.index"
   ]
  },
  {
   "cell_type": "code",
   "execution_count": null,
   "id": "fa7cb5fb-2890-4b1f-af15-bf21af62207e",
   "metadata": {},
   "outputs": [],
   "source": []
  }
 ],
 "metadata": {
  "kernelspec": {
   "display_name": "Python 3 (ipykernel)",
   "language": "python",
   "name": "python3"
  },
  "language_info": {
   "codemirror_mode": {
    "name": "ipython",
    "version": 3
   },
   "file_extension": ".py",
   "mimetype": "text/x-python",
   "name": "python",
   "nbconvert_exporter": "python",
   "pygments_lexer": "ipython3",
   "version": "3.9.7"
  }
 },
 "nbformat": 4,
 "nbformat_minor": 5
}
