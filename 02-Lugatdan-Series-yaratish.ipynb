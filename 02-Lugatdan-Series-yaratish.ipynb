{
 "cells": [
  {
   "cell_type": "code",
   "execution_count": 1,
   "id": "ab7ad320-c847-43b6-bc24-41a87c8491f5",
   "metadata": {},
   "outputs": [],
   "source": [
    "import numpy as np\n",
    "import pandas as pd"
   ]
  },
  {
   "cell_type": "code",
   "execution_count": 2,
   "id": "e406541a-e622-450b-9f8a-15a92e01d101",
   "metadata": {},
   "outputs": [],
   "source": [
    "from pandas import Series"
   ]
  },
  {
   "cell_type": "code",
   "execution_count": 4,
   "id": "04b0cc8b-9a01-45a3-8b45-38725433f218",
   "metadata": {},
   "outputs": [],
   "source": [
    "obj2 = Series([1, 12, 4, 6, 7, 19], index=['a', 'b', 'c', 'd', 'e', 'f'])"
   ]
  },
  {
   "cell_type": "code",
   "execution_count": 5,
   "id": "7c58bcdd-4677-4660-b9f9-c33e73107869",
   "metadata": {},
   "outputs": [
    {
     "data": {
      "text/plain": [
       "True"
      ]
     },
     "execution_count": 5,
     "metadata": {},
     "output_type": "execute_result"
    }
   ],
   "source": [
    "'a' in obj2"
   ]
  },
  {
   "cell_type": "code",
   "execution_count": 6,
   "id": "27839443-414c-44e0-9895-c525cd6823d2",
   "metadata": {},
   "outputs": [
    {
     "data": {
      "text/plain": [
       "True"
      ]
     },
     "execution_count": 6,
     "metadata": {},
     "output_type": "execute_result"
    }
   ],
   "source": [
    "'f' in obj2"
   ]
  },
  {
   "cell_type": "code",
   "execution_count": 7,
   "id": "390f1f2c-83f9-45a9-ba99-e7721abd1648",
   "metadata": {},
   "outputs": [
    {
     "data": {
      "text/plain": [
       "False"
      ]
     },
     "execution_count": 7,
     "metadata": {},
     "output_type": "execute_result"
    }
   ],
   "source": [
    "'g' in obj2"
   ]
  },
  {
   "cell_type": "code",
   "execution_count": 8,
   "id": "f4c1aa4c-a907-4937-b395-c205b5f44c51",
   "metadata": {},
   "outputs": [
    {
     "data": {
      "text/plain": [
       "False"
      ]
     },
     "execution_count": 8,
     "metadata": {},
     "output_type": "execute_result"
    }
   ],
   "source": [
    "'x' in obj2"
   ]
  },
  {
   "cell_type": "code",
   "execution_count": 9,
   "id": "31969394-b03d-4d70-aea5-38b0ca83fe48",
   "metadata": {},
   "outputs": [],
   "source": [
    "cars_dict = {'Malibu':40000, 'Lacetti':20000, 'Toyota':45000, 'Mazda':52000, 'Honda':38000} # bu lug'at"
   ]
  },
  {
   "cell_type": "code",
   "execution_count": 10,
   "id": "0dce5482-1d0a-48d7-b941-76730290fb07",
   "metadata": {},
   "outputs": [],
   "source": [
    "salon1 = Series(cars_dict)"
   ]
  },
  {
   "cell_type": "code",
   "execution_count": 11,
   "id": "7282aab0-f644-4298-af44-26dfc1917455",
   "metadata": {},
   "outputs": [
    {
     "data": {
      "text/plain": [
       "Malibu     40000\n",
       "Lacetti    20000\n",
       "Toyota     45000\n",
       "Mazda      52000\n",
       "Honda      38000\n",
       "dtype: int64"
      ]
     },
     "execution_count": 11,
     "metadata": {},
     "output_type": "execute_result"
    }
   ],
   "source": [
    "salon1"
   ]
  },
  {
   "cell_type": "code",
   "execution_count": 12,
   "id": "db56898c-7f0e-4f4a-b617-ba4ec165c6c5",
   "metadata": {},
   "outputs": [
    {
     "data": {
      "text/plain": [
       "Malibu    40000\n",
       "Toyota    45000\n",
       "Mazda     52000\n",
       "Honda     38000\n",
       "dtype: int64"
      ]
     },
     "execution_count": 12,
     "metadata": {},
     "output_type": "execute_result"
    }
   ],
   "source": [
    "salon1[salon1 > 30000]"
   ]
  },
  {
   "cell_type": "code",
   "execution_count": 13,
   "id": "f5d72b76-4f3d-4364-9d33-e0fbdb4b480d",
   "metadata": {},
   "outputs": [
    {
     "data": {
      "text/plain": [
       "Lacetti    20000\n",
       "dtype: int64"
      ]
     },
     "execution_count": 13,
     "metadata": {},
     "output_type": "execute_result"
    }
   ],
   "source": [
    "salon1[salon1 < 30000]"
   ]
  },
  {
   "cell_type": "code",
   "execution_count": 15,
   "id": "59ce70c0-1b82-4518-9271-99ceb60364df",
   "metadata": {},
   "outputs": [
    {
     "data": {
      "text/plain": [
       "Malibu    40000\n",
       "Honda     38000\n",
       "dtype: int64"
      ]
     },
     "execution_count": 15,
     "metadata": {},
     "output_type": "execute_result"
    }
   ],
   "source": [
    "salon1[(salon1 > 30000) & (salon1 < 45000)]"
   ]
  },
  {
   "cell_type": "code",
   "execution_count": 16,
   "id": "47dfce9b-2d3e-454c-b1f8-31aa047b04b2",
   "metadata": {},
   "outputs": [
    {
     "data": {
      "text/plain": [
       "38000"
      ]
     },
     "execution_count": 16,
     "metadata": {},
     "output_type": "execute_result"
    }
   ],
   "source": [
    "salon1['Honda']"
   ]
  },
  {
   "cell_type": "code",
   "execution_count": 17,
   "id": "57817bdf-4db3-4038-91cb-3de0b40e38c2",
   "metadata": {},
   "outputs": [],
   "source": [
    "models = ['Honda','Mazda','Lacetti','Jaguar','Malibu','Toyota'] # buyerda bitta qo'shimcha model bor"
   ]
  },
  {
   "cell_type": "code",
   "execution_count": 20,
   "id": "3c0f5130-b7bd-4c1b-94bd-732f3eebb8a9",
   "metadata": {},
   "outputs": [],
   "source": [
    "salon2 = Series(cars_dict, index=models)"
   ]
  },
  {
   "cell_type": "code",
   "execution_count": 21,
   "id": "f1a4aa16-42f8-45a2-8e36-aa2d8a7f8519",
   "metadata": {},
   "outputs": [
    {
     "data": {
      "text/plain": [
       "Honda      38000.0\n",
       "Mazda      52000.0\n",
       "Lacetti    20000.0\n",
       "Jaguar         NaN\n",
       "Malibu     40000.0\n",
       "Toyota     45000.0\n",
       "dtype: float64"
      ]
     },
     "execution_count": 21,
     "metadata": {},
     "output_type": "execute_result"
    }
   ],
   "source": [
    "salon2"
   ]
  },
  {
   "cell_type": "code",
   "execution_count": 22,
   "id": "9fde294a-576d-4cd4-a59d-c3d84acc2e0d",
   "metadata": {},
   "outputs": [],
   "source": [
    "salon2['Nexia'] = np.nan"
   ]
  },
  {
   "cell_type": "code",
   "execution_count": 23,
   "id": "72715c96-c88f-42bd-b7d9-ee5fb7126218",
   "metadata": {},
   "outputs": [
    {
     "data": {
      "text/plain": [
       "Honda      38000.0\n",
       "Mazda      52000.0\n",
       "Lacetti    20000.0\n",
       "Jaguar         NaN\n",
       "Malibu     40000.0\n",
       "Toyota     45000.0\n",
       "Nexia          NaN\n",
       "dtype: float64"
      ]
     },
     "execution_count": 23,
     "metadata": {},
     "output_type": "execute_result"
    }
   ],
   "source": [
    "salon2"
   ]
  }
 ],
 "metadata": {
  "kernelspec": {
   "display_name": "Python 3 (ipykernel)",
   "language": "python",
   "name": "python3"
  },
  "language_info": {
   "codemirror_mode": {
    "name": "ipython",
    "version": 3
   },
   "file_extension": ".py",
   "mimetype": "text/x-python",
   "name": "python",
   "nbconvert_exporter": "python",
   "pygments_lexer": "ipython3",
   "version": "3.9.7"
  }
 },
 "nbformat": 4,
 "nbformat_minor": 5
}
